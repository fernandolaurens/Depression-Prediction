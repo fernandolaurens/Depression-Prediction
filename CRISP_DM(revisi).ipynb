{
 "cells": [
  {
   "cell_type": "markdown",
   "id": "fde954d3-05db-4722-900b-db6927f666d2",
   "metadata": {},
   "source": [
    "# Business Understanding\n",
    "The primary objective is to identify individuals likely to experience depression based on various factors, facilitating early preventive interventions and treatments. Key stakeholders include healthcare institutions, insurance companies, community welfare organizations, and individuals seeking to understand their mental health risks. The model offers several business benefits, such as cost savings in healthcare by enabling early detection of depression, improved community well-being through targeted interventions, and data-driven decision-making for effective policy formulation. The results will guide healthcare professionals in developing action plans for those identified as at risk."
   ]
  },
  {
   "cell_type": "markdown",
   "id": "4de328ce-f865-424b-af6a-312105ced8e6",
   "metadata": {},
   "source": [
    "## Data Understanding"
   ]
  },
  {
   "cell_type": "markdown",
   "id": "0f7718f6-a0f5-40ed-baf1-0b2673d63c8f",
   "metadata": {},
   "source": [
    "## Attributes Used in the Analysis\n",
    "\n",
    "The following attributes will be used in the analysis:\n",
    "\n",
    "- **Age:** The age of the individual, which may influence mental health.\n",
    "- **Marital Status:** The current marital situation (e.g., single, married, divorced), potentially impacting emotional well-being.\n",
    "- **Education Level:** The highest level of education attained, which can correlate with socioeconomic status and mental health.\n",
    "- **Employment Status:** The current employment situation (e.g., employed, unemployed), affecting financial stability and self-esteem.\n",
    "- **Smoking Status:** The individual's smoking habits, as smoking can be linked to mental health issues.\n",
    "- **Family History of Depression:** Whether there is a family history of depression, which can increase the risk for the individual.\n",
    "- **Income:** The annual income of the individual, which may influence access to healthcare and overall well-being."
   ]
  },
  {
   "cell_type": "code",
   "execution_count": 1,
   "id": "0c8cbdf6-faa4-4126-990d-9d5eaf37f29b",
   "metadata": {},
   "outputs": [],
   "source": [
    "import numpy as np\n",
    "import pandas as pd\n",
    "import matplotlib.pyplot as plt\n",
    "import seaborn as sns\n",
    "from sklearn.impute import SimpleImputer"
   ]
  },
  {
   "cell_type": "code",
   "execution_count": 2,
   "id": "ef199162-d44a-4006-8f59-7b908bbcad08",
   "metadata": {},
   "outputs": [],
   "source": [
    "#Import pandas to read dataset from csv and assign it to a variable\n",
    "df = pd.read_csv(\"depression_data.csv\")"
   ]
  },
  {
   "cell_type": "code",
   "execution_count": 3,
   "id": "f0ef1140-3955-40ff-a707-9ed51a01d995",
   "metadata": {},
   "outputs": [],
   "source": [
    "# Take all the needed columns\n",
    "df_subset= df[['Age', 'Marital Status','Education Level','Employment Status','Smoking Status','Family History of Depression', 'Income', ]]"
   ]
  },
  {
   "cell_type": "code",
   "execution_count": 4,
   "id": "f65132af-7ead-4f3f-8571-2ed057762e16",
   "metadata": {
    "scrolled": true
   },
   "outputs": [
    {
     "data": {
      "text/html": [
       "<div>\n",
       "<style scoped>\n",
       "    .dataframe tbody tr th:only-of-type {\n",
       "        vertical-align: middle;\n",
       "    }\n",
       "\n",
       "    .dataframe tbody tr th {\n",
       "        vertical-align: top;\n",
       "    }\n",
       "\n",
       "    .dataframe thead th {\n",
       "        text-align: right;\n",
       "    }\n",
       "</style>\n",
       "<table border=\"1\" class=\"dataframe\">\n",
       "  <thead>\n",
       "    <tr style=\"text-align: right;\">\n",
       "      <th></th>\n",
       "      <th>Name</th>\n",
       "      <th>Age</th>\n",
       "      <th>Marital Status</th>\n",
       "      <th>Education Level</th>\n",
       "      <th>Number of Children</th>\n",
       "      <th>Smoking Status</th>\n",
       "      <th>Physical Activity Level</th>\n",
       "      <th>Employment Status</th>\n",
       "      <th>Income</th>\n",
       "      <th>Alcohol Consumption</th>\n",
       "      <th>Dietary Habits</th>\n",
       "      <th>Sleep Patterns</th>\n",
       "      <th>History of Mental Illness</th>\n",
       "      <th>History of Substance Abuse</th>\n",
       "      <th>Family History of Depression</th>\n",
       "      <th>Chronic Medical Conditions</th>\n",
       "    </tr>\n",
       "  </thead>\n",
       "  <tbody>\n",
       "    <tr>\n",
       "      <th>0</th>\n",
       "      <td>Christine Barker</td>\n",
       "      <td>31</td>\n",
       "      <td>Married</td>\n",
       "      <td>Bachelor's Degree</td>\n",
       "      <td>2</td>\n",
       "      <td>Non-smoker</td>\n",
       "      <td>Active</td>\n",
       "      <td>Unemployed</td>\n",
       "      <td>26265.67</td>\n",
       "      <td>Moderate</td>\n",
       "      <td>Moderate</td>\n",
       "      <td>Fair</td>\n",
       "      <td>Yes</td>\n",
       "      <td>No</td>\n",
       "      <td>Yes</td>\n",
       "      <td>Yes</td>\n",
       "    </tr>\n",
       "    <tr>\n",
       "      <th>1</th>\n",
       "      <td>Jacqueline Lewis</td>\n",
       "      <td>55</td>\n",
       "      <td>Married</td>\n",
       "      <td>High School</td>\n",
       "      <td>1</td>\n",
       "      <td>Non-smoker</td>\n",
       "      <td>Sedentary</td>\n",
       "      <td>Employed</td>\n",
       "      <td>42710.36</td>\n",
       "      <td>High</td>\n",
       "      <td>Unhealthy</td>\n",
       "      <td>Fair</td>\n",
       "      <td>Yes</td>\n",
       "      <td>No</td>\n",
       "      <td>No</td>\n",
       "      <td>Yes</td>\n",
       "    </tr>\n",
       "    <tr>\n",
       "      <th>2</th>\n",
       "      <td>Shannon Church</td>\n",
       "      <td>78</td>\n",
       "      <td>Widowed</td>\n",
       "      <td>Master's Degree</td>\n",
       "      <td>1</td>\n",
       "      <td>Non-smoker</td>\n",
       "      <td>Sedentary</td>\n",
       "      <td>Employed</td>\n",
       "      <td>125332.79</td>\n",
       "      <td>Low</td>\n",
       "      <td>Unhealthy</td>\n",
       "      <td>Good</td>\n",
       "      <td>No</td>\n",
       "      <td>No</td>\n",
       "      <td>Yes</td>\n",
       "      <td>No</td>\n",
       "    </tr>\n",
       "    <tr>\n",
       "      <th>3</th>\n",
       "      <td>Charles Jordan</td>\n",
       "      <td>58</td>\n",
       "      <td>Divorced</td>\n",
       "      <td>Master's Degree</td>\n",
       "      <td>3</td>\n",
       "      <td>Non-smoker</td>\n",
       "      <td>Moderate</td>\n",
       "      <td>Unemployed</td>\n",
       "      <td>9992.78</td>\n",
       "      <td>Moderate</td>\n",
       "      <td>Moderate</td>\n",
       "      <td>Poor</td>\n",
       "      <td>No</td>\n",
       "      <td>No</td>\n",
       "      <td>No</td>\n",
       "      <td>No</td>\n",
       "    </tr>\n",
       "    <tr>\n",
       "      <th>4</th>\n",
       "      <td>Michael Rich</td>\n",
       "      <td>18</td>\n",
       "      <td>Single</td>\n",
       "      <td>High School</td>\n",
       "      <td>0</td>\n",
       "      <td>Non-smoker</td>\n",
       "      <td>Sedentary</td>\n",
       "      <td>Unemployed</td>\n",
       "      <td>8595.08</td>\n",
       "      <td>Low</td>\n",
       "      <td>Moderate</td>\n",
       "      <td>Fair</td>\n",
       "      <td>Yes</td>\n",
       "      <td>No</td>\n",
       "      <td>Yes</td>\n",
       "      <td>Yes</td>\n",
       "    </tr>\n",
       "    <tr>\n",
       "      <th>5</th>\n",
       "      <td>Kathy Hill</td>\n",
       "      <td>20</td>\n",
       "      <td>Single</td>\n",
       "      <td>High School</td>\n",
       "      <td>0</td>\n",
       "      <td>Former</td>\n",
       "      <td>Active</td>\n",
       "      <td>Employed</td>\n",
       "      <td>44448.91</td>\n",
       "      <td>Low</td>\n",
       "      <td>Unhealthy</td>\n",
       "      <td>Fair</td>\n",
       "      <td>No</td>\n",
       "      <td>Yes</td>\n",
       "      <td>No</td>\n",
       "      <td>No</td>\n",
       "    </tr>\n",
       "    <tr>\n",
       "      <th>6</th>\n",
       "      <td>Crystal Delgado</td>\n",
       "      <td>60</td>\n",
       "      <td>Widowed</td>\n",
       "      <td>Associate Degree</td>\n",
       "      <td>1</td>\n",
       "      <td>Non-smoker</td>\n",
       "      <td>Sedentary</td>\n",
       "      <td>Unemployed</td>\n",
       "      <td>22565.47</td>\n",
       "      <td>Moderate</td>\n",
       "      <td>Moderate</td>\n",
       "      <td>Poor</td>\n",
       "      <td>No</td>\n",
       "      <td>Yes</td>\n",
       "      <td>No</td>\n",
       "      <td>No</td>\n",
       "    </tr>\n",
       "    <tr>\n",
       "      <th>7</th>\n",
       "      <td>Charles Kaiser</td>\n",
       "      <td>31</td>\n",
       "      <td>Single</td>\n",
       "      <td>High School</td>\n",
       "      <td>0</td>\n",
       "      <td>Non-smoker</td>\n",
       "      <td>Active</td>\n",
       "      <td>Employed</td>\n",
       "      <td>39608.18</td>\n",
       "      <td>Moderate</td>\n",
       "      <td>Unhealthy</td>\n",
       "      <td>Good</td>\n",
       "      <td>No</td>\n",
       "      <td>No</td>\n",
       "      <td>No</td>\n",
       "      <td>No</td>\n",
       "    </tr>\n",
       "    <tr>\n",
       "      <th>8</th>\n",
       "      <td>Kathryn Taylor</td>\n",
       "      <td>50</td>\n",
       "      <td>Divorced</td>\n",
       "      <td>Bachelor's Degree</td>\n",
       "      <td>0</td>\n",
       "      <td>Non-smoker</td>\n",
       "      <td>Active</td>\n",
       "      <td>Employed</td>\n",
       "      <td>93360.07</td>\n",
       "      <td>Moderate</td>\n",
       "      <td>Healthy</td>\n",
       "      <td>Good</td>\n",
       "      <td>No</td>\n",
       "      <td>Yes</td>\n",
       "      <td>No</td>\n",
       "      <td>Yes</td>\n",
       "    </tr>\n",
       "    <tr>\n",
       "      <th>9</th>\n",
       "      <td>Alexander Hernandez</td>\n",
       "      <td>77</td>\n",
       "      <td>Married</td>\n",
       "      <td>Bachelor's Degree</td>\n",
       "      <td>2</td>\n",
       "      <td>Non-smoker</td>\n",
       "      <td>Sedentary</td>\n",
       "      <td>Employed</td>\n",
       "      <td>77597.84</td>\n",
       "      <td>Low</td>\n",
       "      <td>Unhealthy</td>\n",
       "      <td>Poor</td>\n",
       "      <td>Yes</td>\n",
       "      <td>No</td>\n",
       "      <td>No</td>\n",
       "      <td>No</td>\n",
       "    </tr>\n",
       "  </tbody>\n",
       "</table>\n",
       "</div>"
      ],
      "text/plain": [
       "                  Name  Age Marital Status    Education Level  \\\n",
       "0     Christine Barker   31        Married  Bachelor's Degree   \n",
       "1     Jacqueline Lewis   55        Married        High School   \n",
       "2       Shannon Church   78        Widowed    Master's Degree   \n",
       "3       Charles Jordan   58       Divorced    Master's Degree   \n",
       "4         Michael Rich   18         Single        High School   \n",
       "5           Kathy Hill   20         Single        High School   \n",
       "6      Crystal Delgado   60        Widowed   Associate Degree   \n",
       "7       Charles Kaiser   31         Single        High School   \n",
       "8       Kathryn Taylor   50       Divorced  Bachelor's Degree   \n",
       "9  Alexander Hernandez   77        Married  Bachelor's Degree   \n",
       "\n",
       "   Number of Children Smoking Status Physical Activity Level  \\\n",
       "0                   2     Non-smoker                  Active   \n",
       "1                   1     Non-smoker               Sedentary   \n",
       "2                   1     Non-smoker               Sedentary   \n",
       "3                   3     Non-smoker                Moderate   \n",
       "4                   0     Non-smoker               Sedentary   \n",
       "5                   0         Former                  Active   \n",
       "6                   1     Non-smoker               Sedentary   \n",
       "7                   0     Non-smoker                  Active   \n",
       "8                   0     Non-smoker                  Active   \n",
       "9                   2     Non-smoker               Sedentary   \n",
       "\n",
       "  Employment Status     Income Alcohol Consumption Dietary Habits  \\\n",
       "0        Unemployed   26265.67            Moderate       Moderate   \n",
       "1          Employed   42710.36                High      Unhealthy   \n",
       "2          Employed  125332.79                 Low      Unhealthy   \n",
       "3        Unemployed    9992.78            Moderate       Moderate   \n",
       "4        Unemployed    8595.08                 Low       Moderate   \n",
       "5          Employed   44448.91                 Low      Unhealthy   \n",
       "6        Unemployed   22565.47            Moderate       Moderate   \n",
       "7          Employed   39608.18            Moderate      Unhealthy   \n",
       "8          Employed   93360.07            Moderate        Healthy   \n",
       "9          Employed   77597.84                 Low      Unhealthy   \n",
       "\n",
       "  Sleep Patterns History of Mental Illness History of Substance Abuse  \\\n",
       "0           Fair                       Yes                         No   \n",
       "1           Fair                       Yes                         No   \n",
       "2           Good                        No                         No   \n",
       "3           Poor                        No                         No   \n",
       "4           Fair                       Yes                         No   \n",
       "5           Fair                        No                        Yes   \n",
       "6           Poor                        No                        Yes   \n",
       "7           Good                        No                         No   \n",
       "8           Good                        No                        Yes   \n",
       "9           Poor                       Yes                         No   \n",
       "\n",
       "  Family History of Depression Chronic Medical Conditions  \n",
       "0                          Yes                        Yes  \n",
       "1                           No                        Yes  \n",
       "2                          Yes                         No  \n",
       "3                           No                         No  \n",
       "4                          Yes                        Yes  \n",
       "5                           No                         No  \n",
       "6                           No                         No  \n",
       "7                           No                         No  \n",
       "8                           No                        Yes  \n",
       "9                           No                         No  "
      ]
     },
     "execution_count": 4,
     "metadata": {},
     "output_type": "execute_result"
    }
   ],
   "source": [
    "df.head(10)"
   ]
  },
  {
   "cell_type": "code",
   "execution_count": 5,
   "id": "4d592b88-ed75-46a9-baaf-606671662148",
   "metadata": {},
   "outputs": [
    {
     "data": {
      "text/html": [
       "<div>\n",
       "<style scoped>\n",
       "    .dataframe tbody tr th:only-of-type {\n",
       "        vertical-align: middle;\n",
       "    }\n",
       "\n",
       "    .dataframe tbody tr th {\n",
       "        vertical-align: top;\n",
       "    }\n",
       "\n",
       "    .dataframe thead th {\n",
       "        text-align: right;\n",
       "    }\n",
       "</style>\n",
       "<table border=\"1\" class=\"dataframe\">\n",
       "  <thead>\n",
       "    <tr style=\"text-align: right;\">\n",
       "      <th></th>\n",
       "      <th>Age</th>\n",
       "      <th>Marital Status</th>\n",
       "      <th>Education Level</th>\n",
       "      <th>Employment Status</th>\n",
       "      <th>Smoking Status</th>\n",
       "      <th>Family History of Depression</th>\n",
       "      <th>Income</th>\n",
       "    </tr>\n",
       "  </thead>\n",
       "  <tbody>\n",
       "    <tr>\n",
       "      <th>0</th>\n",
       "      <td>31</td>\n",
       "      <td>Married</td>\n",
       "      <td>Bachelor's Degree</td>\n",
       "      <td>Unemployed</td>\n",
       "      <td>Non-smoker</td>\n",
       "      <td>Yes</td>\n",
       "      <td>26265.67</td>\n",
       "    </tr>\n",
       "    <tr>\n",
       "      <th>1</th>\n",
       "      <td>55</td>\n",
       "      <td>Married</td>\n",
       "      <td>High School</td>\n",
       "      <td>Employed</td>\n",
       "      <td>Non-smoker</td>\n",
       "      <td>No</td>\n",
       "      <td>42710.36</td>\n",
       "    </tr>\n",
       "    <tr>\n",
       "      <th>2</th>\n",
       "      <td>78</td>\n",
       "      <td>Widowed</td>\n",
       "      <td>Master's Degree</td>\n",
       "      <td>Employed</td>\n",
       "      <td>Non-smoker</td>\n",
       "      <td>Yes</td>\n",
       "      <td>125332.79</td>\n",
       "    </tr>\n",
       "    <tr>\n",
       "      <th>3</th>\n",
       "      <td>58</td>\n",
       "      <td>Divorced</td>\n",
       "      <td>Master's Degree</td>\n",
       "      <td>Unemployed</td>\n",
       "      <td>Non-smoker</td>\n",
       "      <td>No</td>\n",
       "      <td>9992.78</td>\n",
       "    </tr>\n",
       "    <tr>\n",
       "      <th>4</th>\n",
       "      <td>18</td>\n",
       "      <td>Single</td>\n",
       "      <td>High School</td>\n",
       "      <td>Unemployed</td>\n",
       "      <td>Non-smoker</td>\n",
       "      <td>Yes</td>\n",
       "      <td>8595.08</td>\n",
       "    </tr>\n",
       "  </tbody>\n",
       "</table>\n",
       "</div>"
      ],
      "text/plain": [
       "   Age Marital Status    Education Level Employment Status Smoking Status  \\\n",
       "0   31        Married  Bachelor's Degree        Unemployed     Non-smoker   \n",
       "1   55        Married        High School          Employed     Non-smoker   \n",
       "2   78        Widowed    Master's Degree          Employed     Non-smoker   \n",
       "3   58       Divorced    Master's Degree        Unemployed     Non-smoker   \n",
       "4   18         Single        High School        Unemployed     Non-smoker   \n",
       "\n",
       "  Family History of Depression     Income  \n",
       "0                          Yes   26265.67  \n",
       "1                           No   42710.36  \n",
       "2                          Yes  125332.79  \n",
       "3                           No    9992.78  \n",
       "4                          Yes    8595.08  "
      ]
     },
     "execution_count": 5,
     "metadata": {},
     "output_type": "execute_result"
    }
   ],
   "source": [
    "df_subset.head()"
   ]
  },
  {
   "cell_type": "code",
   "execution_count": 6,
   "id": "720ca50e-7de2-4422-a657-107778878a45",
   "metadata": {},
   "outputs": [
    {
     "name": "stdout",
     "output_type": "stream",
     "text": [
      "Jumlah Baris :  413768\n",
      "Jumlah Kolom :  16\n"
     ]
    }
   ],
   "source": [
    "print(\"Jumlah Baris : \", df.shape[0])\n",
    "print(\"Jumlah Kolom : \", df.shape[1])"
   ]
  },
  {
   "cell_type": "code",
   "execution_count": 7,
   "id": "b1336414-836e-4679-b448-b97023fcf09c",
   "metadata": {},
   "outputs": [
    {
     "name": "stdout",
     "output_type": "stream",
     "text": [
      "<class 'pandas.core.frame.DataFrame'>\n",
      "RangeIndex: 413768 entries, 0 to 413767\n",
      "Data columns (total 7 columns):\n",
      " #   Column                        Non-Null Count   Dtype  \n",
      "---  ------                        --------------   -----  \n",
      " 0   Age                           413768 non-null  int64  \n",
      " 1   Marital Status                413768 non-null  object \n",
      " 2   Education Level               413768 non-null  object \n",
      " 3   Employment Status             413768 non-null  object \n",
      " 4   Smoking Status                413768 non-null  object \n",
      " 5   Family History of Depression  413768 non-null  object \n",
      " 6   Income                        413768 non-null  float64\n",
      "dtypes: float64(1), int64(1), object(5)\n",
      "memory usage: 22.1+ MB\n"
     ]
    }
   ],
   "source": [
    "df_subset.info()"
   ]
  },
  {
   "cell_type": "code",
   "execution_count": 8,
   "id": "e6fd542d-73c4-4e81-9a24-23ebc9199f4f",
   "metadata": {},
   "outputs": [
    {
     "data": {
      "text/html": [
       "<div>\n",
       "<style scoped>\n",
       "    .dataframe tbody tr th:only-of-type {\n",
       "        vertical-align: middle;\n",
       "    }\n",
       "\n",
       "    .dataframe tbody tr th {\n",
       "        vertical-align: top;\n",
       "    }\n",
       "\n",
       "    .dataframe thead th {\n",
       "        text-align: right;\n",
       "    }\n",
       "</style>\n",
       "<table border=\"1\" class=\"dataframe\">\n",
       "  <thead>\n",
       "    <tr style=\"text-align: right;\">\n",
       "      <th></th>\n",
       "      <th>Age</th>\n",
       "      <th>Income</th>\n",
       "    </tr>\n",
       "  </thead>\n",
       "  <tbody>\n",
       "    <tr>\n",
       "      <th>count</th>\n",
       "      <td>413768.000000</td>\n",
       "      <td>413768.000000</td>\n",
       "    </tr>\n",
       "    <tr>\n",
       "      <th>mean</th>\n",
       "      <td>49.000713</td>\n",
       "      <td>50661.707971</td>\n",
       "    </tr>\n",
       "    <tr>\n",
       "      <th>std</th>\n",
       "      <td>18.158759</td>\n",
       "      <td>40624.100565</td>\n",
       "    </tr>\n",
       "    <tr>\n",
       "      <th>min</th>\n",
       "      <td>18.000000</td>\n",
       "      <td>0.410000</td>\n",
       "    </tr>\n",
       "    <tr>\n",
       "      <th>25%</th>\n",
       "      <td>33.000000</td>\n",
       "      <td>21001.030000</td>\n",
       "    </tr>\n",
       "    <tr>\n",
       "      <th>50%</th>\n",
       "      <td>49.000000</td>\n",
       "      <td>37520.135000</td>\n",
       "    </tr>\n",
       "    <tr>\n",
       "      <th>75%</th>\n",
       "      <td>65.000000</td>\n",
       "      <td>76616.300000</td>\n",
       "    </tr>\n",
       "    <tr>\n",
       "      <th>max</th>\n",
       "      <td>80.000000</td>\n",
       "      <td>209995.220000</td>\n",
       "    </tr>\n",
       "  </tbody>\n",
       "</table>\n",
       "</div>"
      ],
      "text/plain": [
       "                 Age         Income\n",
       "count  413768.000000  413768.000000\n",
       "mean       49.000713   50661.707971\n",
       "std        18.158759   40624.100565\n",
       "min        18.000000       0.410000\n",
       "25%        33.000000   21001.030000\n",
       "50%        49.000000   37520.135000\n",
       "75%        65.000000   76616.300000\n",
       "max        80.000000  209995.220000"
      ]
     },
     "execution_count": 8,
     "metadata": {},
     "output_type": "execute_result"
    }
   ],
   "source": [
    "df_subset.describe()"
   ]
  },
  {
   "cell_type": "code",
   "execution_count": 9,
   "id": "b0ec98c1-5501-4a00-862f-2029e420560e",
   "metadata": {},
   "outputs": [],
   "source": [
    "# Change data type of Age from float to int\n",
    "df_subset_ct = df_subset.astype({'Income': int}) "
   ]
  },
  {
   "cell_type": "code",
   "execution_count": 10,
   "id": "11bd26ec-4778-49c9-a68e-ad7faa24a5ae",
   "metadata": {},
   "outputs": [
    {
     "data": {
      "text/plain": [
       "Age                              int64\n",
       "Marital Status                  object\n",
       "Education Level                 object\n",
       "Employment Status               object\n",
       "Smoking Status                  object\n",
       "Family History of Depression    object\n",
       "Income                           int64\n",
       "dtype: object"
      ]
     },
     "execution_count": 10,
     "metadata": {},
     "output_type": "execute_result"
    }
   ],
   "source": [
    "df_subset_ct.dtypes"
   ]
  },
  {
   "cell_type": "code",
   "execution_count": 11,
   "id": "9c010db3-f381-4232-8cc5-255801927492",
   "metadata": {},
   "outputs": [],
   "source": [
    "# Change data type of Age from float to int\n",
    "df_subset_ct = df_subset.astype({'Income': int}) "
   ]
  },
  {
   "cell_type": "markdown",
   "id": "1955e553-54aa-42e5-9bd4-a15a62a502be",
   "metadata": {},
   "source": [
    "### Outlier"
   ]
  },
  {
   "cell_type": "code",
   "execution_count": 12,
   "id": "cbcc3d89-4dc9-494e-b01e-5171b53507c8",
   "metadata": {},
   "outputs": [
    {
     "data": {
      "text/plain": [
       "Age          32.0\n",
       "Income    55615.0\n",
       "dtype: float64"
      ]
     },
     "execution_count": 12,
     "metadata": {},
     "output_type": "execute_result"
    }
   ],
   "source": [
    "q1 = df_subset_ct.select_dtypes(exclude='object').quantile(0.25)\n",
    "q3 = df_subset_ct.select_dtypes(exclude='object').quantile(0.75)\n",
    "iqr = q3 - q1\n",
    "iqr"
   ]
  },
  {
   "cell_type": "code",
   "execution_count": 13,
   "id": "40d60de2-6779-4bf8-9328-2cdd92c737f9",
   "metadata": {},
   "outputs": [],
   "source": [
    "batas_bawah = q1 - (1.5 * iqr)\n",
    "batas_atas = q3 + (1.5 * iqr)"
   ]
  },
  {
   "cell_type": "code",
   "execution_count": 14,
   "id": "b61dd94e-12a0-466d-ab05-2414677b0261",
   "metadata": {},
   "outputs": [
    {
     "data": {
      "text/html": [
       "<div>\n",
       "<style scoped>\n",
       "    .dataframe tbody tr th:only-of-type {\n",
       "        vertical-align: middle;\n",
       "    }\n",
       "\n",
       "    .dataframe tbody tr th {\n",
       "        vertical-align: top;\n",
       "    }\n",
       "\n",
       "    .dataframe thead th {\n",
       "        text-align: right;\n",
       "    }\n",
       "</style>\n",
       "<table border=\"1\" class=\"dataframe\">\n",
       "  <thead>\n",
       "    <tr style=\"text-align: right;\">\n",
       "      <th></th>\n",
       "      <th>Age</th>\n",
       "      <th>Income</th>\n",
       "    </tr>\n",
       "  </thead>\n",
       "  <tbody>\n",
       "    <tr>\n",
       "      <th>0</th>\n",
       "      <td>False</td>\n",
       "      <td>False</td>\n",
       "    </tr>\n",
       "    <tr>\n",
       "      <th>1</th>\n",
       "      <td>False</td>\n",
       "      <td>False</td>\n",
       "    </tr>\n",
       "    <tr>\n",
       "      <th>2</th>\n",
       "      <td>False</td>\n",
       "      <td>False</td>\n",
       "    </tr>\n",
       "    <tr>\n",
       "      <th>3</th>\n",
       "      <td>False</td>\n",
       "      <td>False</td>\n",
       "    </tr>\n",
       "    <tr>\n",
       "      <th>4</th>\n",
       "      <td>False</td>\n",
       "      <td>False</td>\n",
       "    </tr>\n",
       "    <tr>\n",
       "      <th>...</th>\n",
       "      <td>...</td>\n",
       "      <td>...</td>\n",
       "    </tr>\n",
       "    <tr>\n",
       "      <th>413763</th>\n",
       "      <td>False</td>\n",
       "      <td>False</td>\n",
       "    </tr>\n",
       "    <tr>\n",
       "      <th>413764</th>\n",
       "      <td>False</td>\n",
       "      <td>False</td>\n",
       "    </tr>\n",
       "    <tr>\n",
       "      <th>413765</th>\n",
       "      <td>False</td>\n",
       "      <td>False</td>\n",
       "    </tr>\n",
       "    <tr>\n",
       "      <th>413766</th>\n",
       "      <td>False</td>\n",
       "      <td>False</td>\n",
       "    </tr>\n",
       "    <tr>\n",
       "      <th>413767</th>\n",
       "      <td>False</td>\n",
       "      <td>False</td>\n",
       "    </tr>\n",
       "  </tbody>\n",
       "</table>\n",
       "<p>413768 rows × 2 columns</p>\n",
       "</div>"
      ],
      "text/plain": [
       "          Age  Income\n",
       "0       False   False\n",
       "1       False   False\n",
       "2       False   False\n",
       "3       False   False\n",
       "4       False   False\n",
       "...       ...     ...\n",
       "413763  False   False\n",
       "413764  False   False\n",
       "413765  False   False\n",
       "413766  False   False\n",
       "413767  False   False\n",
       "\n",
       "[413768 rows x 2 columns]"
      ]
     },
     "execution_count": 14,
     "metadata": {},
     "output_type": "execute_result"
    }
   ],
   "source": [
    "df_numerical = df_subset_ct.select_dtypes(exclude='object')\n",
    "outlier = ((df_numerical < batas_bawah) | (df_numerical > batas_atas))\n",
    "outlier"
   ]
  },
  {
   "cell_type": "code",
   "execution_count": 15,
   "id": "3aff6f57-6f70-4e02-b48a-55d93a3fb7d6",
   "metadata": {},
   "outputs": [
    {
     "name": "stdout",
     "output_type": "stream",
     "text": [
      "Nama Kolom: Age\n",
      "Age\n",
      "False    413768\n",
      "Name: count, dtype: int64\n",
      "-------------------\n",
      "Nama Kolom: Income\n",
      "Income\n",
      "False    408611\n",
      "True       5157\n",
      "Name: count, dtype: int64\n",
      "-------------------\n"
     ]
    }
   ],
   "source": [
    "for col in outlier.columns :\n",
    "    if df_subset_ct[col].dtype != object :\n",
    "        print('Nama Kolom:',col)\n",
    "        print(outlier[col].value_counts())\n",
    "        print('-------------------')"
   ]
  },
  {
   "cell_type": "code",
   "execution_count": 16,
   "id": "50ddd52d-76e6-43b6-a0ac-fb567fdfea46",
   "metadata": {},
   "outputs": [
    {
     "data": {
      "image/png": "[encoded data removed]",
      "text/plain": [
       "<Figure size 2000x200 with 1 Axes>"
      ]
     },
     "metadata": {},
     "output_type": "display_data"
    },
    {
     "data": {
      "image/png": "[encoded data removed]",
      "text/plain": [
       "<Figure size 2000x200 with 1 Axes>"
      ]
     },
     "metadata": {},
     "output_type": "display_data"
    }
   ],
   "source": [
    "import matplotlib.pyplot as plt\n",
    "import seaborn as sns\n",
    "df_outlier = df_subset_ct.select_dtypes(exclude=['object'])\n",
    "for column in df_outlier:\n",
    "        plt.figure(figsize=(20,2))\n",
    "        sns.boxplot(data=df_outlier, x=column)"
   ]
  },
  {
   "cell_type": "code",
   "execution_count": 17,
   "id": "3d95ebdb-4d7e-480a-a0ae-e0267b6790ca",
   "metadata": {},
   "outputs": [],
   "source": [
    "from scipy.stats.mstats import winsorize"
   ]
  },
  {
   "cell_type": "code",
   "execution_count": 18,
   "id": "0f273cb5-463d-476e-9dc9-8d38c72ab283",
   "metadata": {},
   "outputs": [],
   "source": [
    "df_subset_ct.loc[:,'Age'] = winsorize(df_subset_ct.loc[:,'Age'], limits =[0,0.01])"
   ]
  },
  {
   "cell_type": "code",
   "execution_count": 19,
   "id": "022b68f8-b7f1-4765-a4b3-db4205c2e16a",
   "metadata": {},
   "outputs": [
    {
     "data": {
      "text/plain": [
       "<Axes: xlabel='Age'>"
      ]
     },
     "execution_count": 19,
     "metadata": {},
     "output_type": "execute_result"
    },
    {
     "data": {
      "image/png": "[encoded data removed]",
      "text/plain": [
       "<Figure size 2000x200 with 1 Axes>"
      ]
     },
     "metadata": {},
     "output_type": "display_data"
    }
   ],
   "source": [
    "plt.figure(figsize=(20,2))\n",
    "sns.boxplot(data=df_subset_ct, x=df_subset_ct['Age'])"
   ]
  },
  {
   "cell_type": "markdown",
   "id": "b5381e8c-43c1-466d-b1a6-3f9c22ad5df1",
   "metadata": {},
   "source": [
    "### Visualization"
   ]
  },
  {
   "cell_type": "code",
   "execution_count": 20,
   "id": "738bd417-f039-4d0c-b452-7c90373f9c60",
   "metadata": {},
   "outputs": [],
   "source": [
    "dietbased_overview=pd.DataFrame(df['Dietary Habits'].value_counts())"
   ]
  },
  {
   "cell_type": "code",
   "execution_count": 21,
   "id": "58038197-51e5-4d76-bfee-e1c5485eb9ed",
   "metadata": {},
   "outputs": [
    {
     "data": {
      "text/html": [
       "<div>\n",
       "<style scoped>\n",
       "    .dataframe tbody tr th:only-of-type {\n",
       "        vertical-align: middle;\n",
       "    }\n",
       "\n",
       "    .dataframe tbody tr th {\n",
       "        vertical-align: top;\n",
       "    }\n",
       "\n",
       "    .dataframe thead th {\n",
       "        text-align: right;\n",
       "    }\n",
       "</style>\n",
       "<table border=\"1\" class=\"dataframe\">\n",
       "  <thead>\n",
       "    <tr style=\"text-align: right;\">\n",
       "      <th></th>\n",
       "      <th>count</th>\n",
       "    </tr>\n",
       "    <tr>\n",
       "      <th>Dietary Habits</th>\n",
       "      <th></th>\n",
       "    </tr>\n",
       "  </thead>\n",
       "  <tbody>\n",
       "    <tr>\n",
       "      <th>Unhealthy</th>\n",
       "      <td>170817</td>\n",
       "    </tr>\n",
       "    <tr>\n",
       "      <th>Moderate</th>\n",
       "      <td>170446</td>\n",
       "    </tr>\n",
       "    <tr>\n",
       "      <th>Healthy</th>\n",
       "      <td>72505</td>\n",
       "    </tr>\n",
       "  </tbody>\n",
       "</table>\n",
       "</div>"
      ],
      "text/plain": [
       "                 count\n",
       "Dietary Habits        \n",
       "Unhealthy       170817\n",
       "Moderate        170446\n",
       "Healthy          72505"
      ]
     },
     "execution_count": 21,
     "metadata": {},
     "output_type": "execute_result"
    }
   ],
   "source": [
    "dietbased_overview"
   ]
  },
  {
   "cell_type": "code",
   "execution_count": 22,
   "id": "56155741-6857-4207-9fd3-a288e5495ad4",
   "metadata": {},
   "outputs": [
    {
     "data": {
      "text/html": [
       "<div>\n",
       "<style scoped>\n",
       "    .dataframe tbody tr th:only-of-type {\n",
       "        vertical-align: middle;\n",
       "    }\n",
       "\n",
       "    .dataframe tbody tr th {\n",
       "        vertical-align: top;\n",
       "    }\n",
       "\n",
       "    .dataframe thead th {\n",
       "        text-align: right;\n",
       "    }\n",
       "</style>\n",
       "<table border=\"1\" class=\"dataframe\">\n",
       "  <thead>\n",
       "    <tr style=\"text-align: right;\">\n",
       "      <th></th>\n",
       "      <th>Smoking Status</th>\n",
       "      <th>Total Count</th>\n",
       "    </tr>\n",
       "  </thead>\n",
       "  <tbody>\n",
       "    <tr>\n",
       "      <th>0</th>\n",
       "      <td>Non-smoker</td>\n",
       "      <td>247416</td>\n",
       "    </tr>\n",
       "    <tr>\n",
       "      <th>1</th>\n",
       "      <td>Former</td>\n",
       "      <td>116184</td>\n",
       "    </tr>\n",
       "    <tr>\n",
       "      <th>2</th>\n",
       "      <td>Current</td>\n",
       "      <td>50168</td>\n",
       "    </tr>\n",
       "  </tbody>\n",
       "</table>\n",
       "</div>"
      ],
      "text/plain": [
       "  Smoking Status  Total Count\n",
       "0     Non-smoker       247416\n",
       "1         Former       116184\n",
       "2        Current        50168"
      ]
     },
     "execution_count": 22,
     "metadata": {},
     "output_type": "execute_result"
    }
   ],
   "source": [
    "smoking_status=pd.DataFrame(df['Smoking Status'].value_counts())\n",
    "smoking_status.rename_axis('Smoking Status',inplace=True)\n",
    "smoking_status.columns=['Total Count']\n",
    "smoking_status= smoking_status.reset_index()\n",
    "smoking_status"
   ]
  },
  {
   "cell_type": "code",
   "execution_count": 23,
   "id": "dab4c425-568b-483a-b538-b8b0409e6b5a",
   "metadata": {},
   "outputs": [
    {
     "data": {
      "image/png": "[encoded data removed]",
      "text/plain": [
       "<Figure size 800x500 with 1 Axes>"
      ]
     },
     "metadata": {},
     "output_type": "display_data"
    }
   ],
   "source": [
    "plt.figure(figsize=(8,5))\n",
    "bar = sns.barplot(x='Smoking Status', y='Total Count', data=smoking_status, edgecolor='black')\n",
    "\n",
    "plt.title('Smoking Impact on Depression',fontsize=18,weight='bold')\n",
    "plt.xlabel('Smoking Status',fontsize=14,weight='bold')\n",
    "plt.ylabel('Depressed People',fontsize=14,weight='bold')\n",
    "for i in range(len(dietbased_overview)):\n",
    "    plt.text(i, smoking_status['Total Count'][i] ,smoking_status['Total Count'][i],  ha='center', \n",
    "             va='bottom', fontsize=12, fontweight='bold')\n",
    "plt.show()"
   ]
  },
  {
   "cell_type": "code",
   "execution_count": 24,
   "id": "8eed86d9-cbfe-4786-8a42-f09b38621981",
   "metadata": {},
   "outputs": [
    {
     "data": {
      "text/html": [
       "<div>\n",
       "<style scoped>\n",
       "    .dataframe tbody tr th:only-of-type {\n",
       "        vertical-align: middle;\n",
       "    }\n",
       "\n",
       "    .dataframe tbody tr th {\n",
       "        vertical-align: top;\n",
       "    }\n",
       "\n",
       "    .dataframe thead th {\n",
       "        text-align: right;\n",
       "    }\n",
       "</style>\n",
       "<table border=\"1\" class=\"dataframe\">\n",
       "  <thead>\n",
       "    <tr style=\"text-align: right;\">\n",
       "      <th></th>\n",
       "      <th>Employment Status</th>\n",
       "      <th>Total Count</th>\n",
       "    </tr>\n",
       "  </thead>\n",
       "  <tbody>\n",
       "    <tr>\n",
       "      <th>0</th>\n",
       "      <td>Employed</td>\n",
       "      <td>265659</td>\n",
       "    </tr>\n",
       "    <tr>\n",
       "      <th>1</th>\n",
       "      <td>Unemployed</td>\n",
       "      <td>148109</td>\n",
       "    </tr>\n",
       "  </tbody>\n",
       "</table>\n",
       "</div>"
      ],
      "text/plain": [
       "  Employment Status  Total Count\n",
       "0          Employed       265659\n",
       "1        Unemployed       148109"
      ]
     },
     "execution_count": 24,
     "metadata": {},
     "output_type": "execute_result"
    }
   ],
   "source": [
    "Employment_Status=pd.DataFrame(df['Employment Status'].value_counts())\n",
    "Employment_Status.rename_axis('Employment Status',inplace=True)\n",
    "Employment_Status.columns=['Total Count']\n",
    "Employment_Status=Employment_Status.reset_index()\n",
    "Employment_Status"
   ]
  },
  {
   "cell_type": "code",
   "execution_count": 25,
   "id": "56637e2b-f239-4563-8044-c2df6b60109d",
   "metadata": {},
   "outputs": [
    {
     "data": {
      "image/png": "[encoded data removed]",
      "text/plain": [
       "<Figure size 800x500 with 1 Axes>"
      ]
     },
     "metadata": {},
     "output_type": "display_data"
    }
   ],
   "source": [
    "plt.figure(figsize=(8,5))\n",
    "bar = sns.barplot(x='Employment Status', y='Total Count', data=Employment_Status, edgecolor='black')\n",
    "\n",
    "plt.title('Employment Status effect on depression',fontsize=18,weight='bold')\n",
    "plt.xlabel('Employment Status',fontsize=14,weight='bold')\n",
    "plt.ylabel('Depressed People',fontsize=14,weight='bold')\n",
    "for i in range(len(Employment_Status)):\n",
    "    plt.text(i, Employment_Status['Total Count'][i] , Employment_Status['Total Count'][i], \n",
    "             ha='center', va='bottom', fontsize=12, fontweight='bold')\n",
    "plt.show()"
   ]
  },
  {
   "cell_type": "code",
   "execution_count": 26,
   "id": "46965ace-047b-4b69-a11f-66cabf791c9b",
   "metadata": {},
   "outputs": [
    {
     "data": {
      "text/html": [
       "<div>\n",
       "<style scoped>\n",
       "    .dataframe tbody tr th:only-of-type {\n",
       "        vertical-align: middle;\n",
       "    }\n",
       "\n",
       "    .dataframe tbody tr th {\n",
       "        vertical-align: top;\n",
       "    }\n",
       "\n",
       "    .dataframe thead th {\n",
       "        text-align: right;\n",
       "    }\n",
       "</style>\n",
       "<table border=\"1\" class=\"dataframe\">\n",
       "  <thead>\n",
       "    <tr style=\"text-align: right;\">\n",
       "      <th></th>\n",
       "      <th>Alcohol Consumption</th>\n",
       "      <th>Total Count</th>\n",
       "    </tr>\n",
       "  </thead>\n",
       "  <tbody>\n",
       "    <tr>\n",
       "      <th>0</th>\n",
       "      <td>Moderate</td>\n",
       "      <td>173440</td>\n",
       "    </tr>\n",
       "    <tr>\n",
       "      <th>1</th>\n",
       "      <td>Low</td>\n",
       "      <td>139250</td>\n",
       "    </tr>\n",
       "    <tr>\n",
       "      <th>2</th>\n",
       "      <td>High</td>\n",
       "      <td>101078</td>\n",
       "    </tr>\n",
       "  </tbody>\n",
       "</table>\n",
       "</div>"
      ],
      "text/plain": [
       "  Alcohol Consumption  Total Count\n",
       "0            Moderate       173440\n",
       "1                 Low       139250\n",
       "2                High       101078"
      ]
     },
     "execution_count": 26,
     "metadata": {},
     "output_type": "execute_result"
    }
   ],
   "source": [
    "Alcohol_Consumption=pd.DataFrame(df['Alcohol Consumption'].value_counts())\n",
    "Alcohol_Consumption.rename_axis('Alcohol Consumption',inplace=True)\n",
    "Alcohol_Consumption.columns=['Total Count']\n",
    "Alcohol_Consumption=Alcohol_Consumption.reset_index()\n",
    "Alcohol_Consumption"
   ]
  },
  {
   "cell_type": "code",
   "execution_count": 27,
   "id": "532d97be-ac66-42e8-9882-9e73e4924295",
   "metadata": {},
   "outputs": [
    {
     "data": {
      "text/html": [
       "<div>\n",
       "<style scoped>\n",
       "    .dataframe tbody tr th:only-of-type {\n",
       "        vertical-align: middle;\n",
       "    }\n",
       "\n",
       "    .dataframe tbody tr th {\n",
       "        vertical-align: top;\n",
       "    }\n",
       "\n",
       "    .dataframe thead th {\n",
       "        text-align: right;\n",
       "    }\n",
       "</style>\n",
       "<table border=\"1\" class=\"dataframe\">\n",
       "  <thead>\n",
       "    <tr style=\"text-align: right;\">\n",
       "      <th></th>\n",
       "      <th>Physical Activity Level</th>\n",
       "      <th>Total Count</th>\n",
       "    </tr>\n",
       "  </thead>\n",
       "  <tbody>\n",
       "    <tr>\n",
       "      <th>0</th>\n",
       "      <td>Sedentary</td>\n",
       "      <td>176850</td>\n",
       "    </tr>\n",
       "    <tr>\n",
       "      <th>1</th>\n",
       "      <td>Moderate</td>\n",
       "      <td>158013</td>\n",
       "    </tr>\n",
       "    <tr>\n",
       "      <th>2</th>\n",
       "      <td>Active</td>\n",
       "      <td>78905</td>\n",
       "    </tr>\n",
       "  </tbody>\n",
       "</table>\n",
       "</div>"
      ],
      "text/plain": [
       "  Physical Activity Level  Total Count\n",
       "0               Sedentary       176850\n",
       "1                Moderate       158013\n",
       "2                  Active        78905"
      ]
     },
     "execution_count": 27,
     "metadata": {},
     "output_type": "execute_result"
    }
   ],
   "source": [
    "PAL_effect=pd.DataFrame(df['Physical Activity Level'].value_counts())\n",
    "PAL_effect.rename_axis('Physical Activity Level',inplace=True)\n",
    "PAL_effect.columns=['Total Count']\n",
    "PAL_effect=PAL_effect.reset_index()\n",
    "PAL_effect"
   ]
  },
  {
   "cell_type": "code",
   "execution_count": 28,
   "id": "d89de5a1-09a4-44d3-86cd-b63b613b95a5",
   "metadata": {},
   "outputs": [
    {
     "data": {
      "image/png": "[encoded data removed]",
      "text/plain": [
       "<Figure size 640x480 with 1 Axes>"
      ]
     },
     "metadata": {},
     "output_type": "display_data"
    }
   ],
   "source": [
    "df['Physical Activity Level'].value_counts().plot(kind = 'pie' , autopct= '%0.1f%%', \n",
    "                                                  colors=['#ff9999','#66b3ff','#99ff99','#ffcc99'],\n",
    "                                                  shadow=True,startangle=90, wedgeprops={'edgecolor': 'black'} )\n",
    "plt.title('Physically active peoples depression persent',fontsize=15,weight='bold')\n",
    "plt.axis('equal')  \n",
    "plt.show()"
   ]
  },
  {
   "cell_type": "code",
   "execution_count": 29,
   "id": "ce767306-59f3-4fea-9264-83724048d388",
   "metadata": {},
   "outputs": [
    {
     "data": {
      "text/html": [
       "<div>\n",
       "<style scoped>\n",
       "    .dataframe tbody tr th:only-of-type {\n",
       "        vertical-align: middle;\n",
       "    }\n",
       "\n",
       "    .dataframe tbody tr th {\n",
       "        vertical-align: top;\n",
       "    }\n",
       "\n",
       "    .dataframe thead th {\n",
       "        text-align: right;\n",
       "    }\n",
       "</style>\n",
       "<table border=\"1\" class=\"dataframe\">\n",
       "  <thead>\n",
       "    <tr style=\"text-align: right;\">\n",
       "      <th></th>\n",
       "      <th>Age</th>\n",
       "      <th>Total Count</th>\n",
       "    </tr>\n",
       "  </thead>\n",
       "  <tbody>\n",
       "    <tr>\n",
       "      <th>0</th>\n",
       "      <td>42</td>\n",
       "      <td>6740</td>\n",
       "    </tr>\n",
       "    <tr>\n",
       "      <th>1</th>\n",
       "      <td>47</td>\n",
       "      <td>6700</td>\n",
       "    </tr>\n",
       "    <tr>\n",
       "      <th>2</th>\n",
       "      <td>43</td>\n",
       "      <td>6700</td>\n",
       "    </tr>\n",
       "    <tr>\n",
       "      <th>3</th>\n",
       "      <td>24</td>\n",
       "      <td>6695</td>\n",
       "    </tr>\n",
       "    <tr>\n",
       "      <th>4</th>\n",
       "      <td>52</td>\n",
       "      <td>6693</td>\n",
       "    </tr>\n",
       "    <tr>\n",
       "      <th>...</th>\n",
       "      <td>...</td>\n",
       "      <td>...</td>\n",
       "    </tr>\n",
       "    <tr>\n",
       "      <th>58</th>\n",
       "      <td>18</td>\n",
       "      <td>6470</td>\n",
       "    </tr>\n",
       "    <tr>\n",
       "      <th>59</th>\n",
       "      <td>65</td>\n",
       "      <td>6449</td>\n",
       "    </tr>\n",
       "    <tr>\n",
       "      <th>60</th>\n",
       "      <td>76</td>\n",
       "      <td>6442</td>\n",
       "    </tr>\n",
       "    <tr>\n",
       "      <th>61</th>\n",
       "      <td>35</td>\n",
       "      <td>6429</td>\n",
       "    </tr>\n",
       "    <tr>\n",
       "      <th>62</th>\n",
       "      <td>21</td>\n",
       "      <td>6381</td>\n",
       "    </tr>\n",
       "  </tbody>\n",
       "</table>\n",
       "<p>63 rows × 2 columns</p>\n",
       "</div>"
      ],
      "text/plain": [
       "    Age  Total Count\n",
       "0    42         6740\n",
       "1    47         6700\n",
       "2    43         6700\n",
       "3    24         6695\n",
       "4    52         6693\n",
       "..  ...          ...\n",
       "58   18         6470\n",
       "59   65         6449\n",
       "60   76         6442\n",
       "61   35         6429\n",
       "62   21         6381\n",
       "\n",
       "[63 rows x 2 columns]"
      ]
     },
     "execution_count": 29,
     "metadata": {},
     "output_type": "execute_result"
    }
   ],
   "source": [
    "Age_status=pd.DataFrame(df['Age'].value_counts())\n",
    "Age_status.rename_axis('Age',inplace=True)\n",
    "Age_status.columns=['Total Count']\n",
    "Age_status=Age_status.reset_index()\n",
    "Age_status"
   ]
  },
  {
   "cell_type": "code",
   "execution_count": 30,
   "id": "5cf9b40c-fc38-4748-8409-91000c14f9af",
   "metadata": {},
   "outputs": [],
   "source": [
    "bins=[0,19,65,81]\n",
    "labels=['teens(0-19)','adults(20-65)','seniors(66-100)']\n",
    "Age_status['Category']=pd.cut(Age_status['Age'],bins=bins,labels=labels)"
   ]
  },
  {
   "cell_type": "code",
   "execution_count": 31,
   "id": "29617660-3f98-4842-9476-d04ac1eb8f52",
   "metadata": {},
   "outputs": [],
   "source": [
    "age_category = pd.DataFrame(Age_status.groupby('Category', observed=False)['Total Count'].sum()).reset_index()"
   ]
  },
  {
   "cell_type": "code",
   "execution_count": 32,
   "id": "07ccaa2a-89a9-422e-9b45-0af87a14c0ba",
   "metadata": {},
   "outputs": [
    {
     "data": {
      "text/html": [
       "<div>\n",
       "<style scoped>\n",
       "    .dataframe tbody tr th:only-of-type {\n",
       "        vertical-align: middle;\n",
       "    }\n",
       "\n",
       "    .dataframe tbody tr th {\n",
       "        vertical-align: top;\n",
       "    }\n",
       "\n",
       "    .dataframe thead th {\n",
       "        text-align: right;\n",
       "    }\n",
       "</style>\n",
       "<table border=\"1\" class=\"dataframe\">\n",
       "  <thead>\n",
       "    <tr style=\"text-align: right;\">\n",
       "      <th></th>\n",
       "      <th>Category</th>\n",
       "      <th>Total Count</th>\n",
       "    </tr>\n",
       "  </thead>\n",
       "  <tbody>\n",
       "    <tr>\n",
       "      <th>0</th>\n",
       "      <td>teens(0-19)</td>\n",
       "      <td>13058</td>\n",
       "    </tr>\n",
       "    <tr>\n",
       "      <th>1</th>\n",
       "      <td>adults(20-65)</td>\n",
       "      <td>302552</td>\n",
       "    </tr>\n",
       "    <tr>\n",
       "      <th>2</th>\n",
       "      <td>seniors(66-100)</td>\n",
       "      <td>98158</td>\n",
       "    </tr>\n",
       "  </tbody>\n",
       "</table>\n",
       "</div>"
      ],
      "text/plain": [
       "          Category  Total Count\n",
       "0      teens(0-19)        13058\n",
       "1    adults(20-65)       302552\n",
       "2  seniors(66-100)        98158"
      ]
     },
     "execution_count": 32,
     "metadata": {},
     "output_type": "execute_result"
    }
   ],
   "source": [
    "age_category"
   ]
  },
  {
   "cell_type": "code",
   "execution_count": 33,
   "id": "fdf44366-f4ae-4f56-94e3-e54f8c93961a",
   "metadata": {},
   "outputs": [
    {
     "data": {
      "image/png": "[encoded data removed]",
      "text/plain": [
       "<Figure size 800x500 with 1 Axes>"
      ]
     },
     "metadata": {},
     "output_type": "display_data"
    }
   ],
   "source": [
    "plt.figure(figsize=(8,5))\n",
    "\n",
    "# Assigning 'Category' to hue to avoid the warning\n",
    "bar = sns.barplot(x='Category', y='Total Count', data=age_category, hue='Category', \n",
    "                  palette=['#FF9999', '#66B2FF', '#99FF99'], edgecolor='black', dodge=False)\n",
    "\n",
    "# Title and axis labels with proper formatting\n",
    "plt.title('Age Impact on Depression', fontsize=18, weight='bold')\n",
    "plt.xlabel('Age Category', fontsize=14, weight='bold')\n",
    "plt.ylabel('Depressed People', fontsize=14, weight='bold')\n",
    "\n",
    "# Adding data labels on top of the bars\n",
    "for i in range(len(age_category)):\n",
    "    plt.text(i, age_category['Total Count'][i] + 0.5,  # Added 0.5 for better positioning above the bar\n",
    "             age_category['Total Count'][i], ha='center', va='bottom', \n",
    "             fontsize=12, fontweight='bold')\n",
    "\n",
    "# Removing the legend since hue is used only for color and not categorization\n",
    "plt.legend([], [], frameon=False)\n",
    "\n",
    "plt.show()\n"
   ]
  },
  {
   "cell_type": "code",
   "execution_count": 34,
   "id": "ccc95f9c-639f-4c37-b493-e8aded67e4b3",
   "metadata": {},
   "outputs": [
    {
     "data": {
      "text/html": [
       "<div>\n",
       "<style scoped>\n",
       "    .dataframe tbody tr th:only-of-type {\n",
       "        vertical-align: middle;\n",
       "    }\n",
       "\n",
       "    .dataframe tbody tr th {\n",
       "        vertical-align: top;\n",
       "    }\n",
       "\n",
       "    .dataframe thead th {\n",
       "        text-align: right;\n",
       "    }\n",
       "</style>\n",
       "<table border=\"1\" class=\"dataframe\">\n",
       "  <thead>\n",
       "    <tr style=\"text-align: right;\">\n",
       "      <th></th>\n",
       "      <th>Marital Status</th>\n",
       "      <th>Total Count</th>\n",
       "    </tr>\n",
       "  </thead>\n",
       "  <tbody>\n",
       "    <tr>\n",
       "      <th>0</th>\n",
       "      <td>Married</td>\n",
       "      <td>240444</td>\n",
       "    </tr>\n",
       "    <tr>\n",
       "      <th>1</th>\n",
       "      <td>Single</td>\n",
       "      <td>72110</td>\n",
       "    </tr>\n",
       "    <tr>\n",
       "      <th>2</th>\n",
       "      <td>Widowed</td>\n",
       "      <td>68485</td>\n",
       "    </tr>\n",
       "    <tr>\n",
       "      <th>3</th>\n",
       "      <td>Divorced</td>\n",
       "      <td>32729</td>\n",
       "    </tr>\n",
       "  </tbody>\n",
       "</table>\n",
       "</div>"
      ],
      "text/plain": [
       "  Marital Status  Total Count\n",
       "0        Married       240444\n",
       "1         Single        72110\n",
       "2        Widowed        68485\n",
       "3       Divorced        32729"
      ]
     },
     "execution_count": 34,
     "metadata": {},
     "output_type": "execute_result"
    }
   ],
   "source": [
    "Marital_Status=pd.DataFrame(df['Marital Status'].value_counts())\n",
    "Marital_Status.rename_axis('Marital Status',inplace=True)\n",
    "Marital_Status.columns=['Total Count']\n",
    "Marital_Status=Marital_Status.reset_index()\n",
    "Marital_Status"
   ]
  },
  {
   "cell_type": "code",
   "execution_count": 35,
   "id": "69289dfe-f94b-4e6a-8a47-000a3740e54b",
   "metadata": {},
   "outputs": [
    {
     "data": {
      "image/png": "[encoded data removed]",
      "text/plain": [
       "<Figure size 800x500 with 1 Axes>"
      ]
     },
     "metadata": {},
     "output_type": "display_data"
    }
   ],
   "source": [
    "plt.figure(figsize=(8,5))\n",
    "\n",
    "# Setting hue='Marital Status' to avoid the FutureWarning\n",
    "bar = sns.barplot(x='Marital Status', y='Total Count', data=Marital_Status, \n",
    "                  hue='Marital Status', palette=['#FF9999', '#66B2FF', '#99FF99', '#eea7fc'], \n",
    "                  edgecolor='black', dodge=False)\n",
    "\n",
    "# Title and labels\n",
    "plt.title('Marital Status Effect on Depression', fontsize=18, weight='bold')\n",
    "plt.xlabel('Marital Status', fontsize=14, weight='bold')\n",
    "plt.ylabel('Depressed People', fontsize=14, weight='bold')\n",
    "\n",
    "# Adding labels to each bar with a better position for clarity\n",
    "for i in range(len(Marital_Status)):\n",
    "    plt.text(i, Marital_Status['Total Count'][i] + 0.5,  # Slightly above the bar\n",
    "             f'{Marital_Status[\"Total Count\"][i]:,}', ha='center', va='bottom', \n",
    "             fontsize=12, fontweight='bold')\n",
    "\n",
    "# Remove the legend since hue is used only for color\n",
    "plt.legend([], [], frameon=False)\n",
    "\n",
    "# Tight layout for better spacing\n",
    "plt.tight_layout()\n",
    "\n",
    "plt.show()"
   ]
  },
  {
   "cell_type": "code",
   "execution_count": 36,
   "id": "b357fccf-905e-4509-a4c0-e1ccc3dc8fed",
   "metadata": {},
   "outputs": [
    {
     "data": {
      "text/plain": [
       "array([\"Bachelor's Degree\", 'High School', \"Master's Degree\",\n",
       "       'Associate Degree', 'PhD'], dtype=object)"
      ]
     },
     "execution_count": 36,
     "metadata": {},
     "output_type": "execute_result"
    }
   ],
   "source": [
    "df['Education Level'].unique()"
   ]
  },
  {
   "cell_type": "code",
   "execution_count": 37,
   "id": "5a1f8566-a2b1-4e2e-8d18-9a4232485be7",
   "metadata": {},
   "outputs": [
    {
     "data": {
      "text/html": [
       "<div>\n",
       "<style scoped>\n",
       "    .dataframe tbody tr th:only-of-type {\n",
       "        vertical-align: middle;\n",
       "    }\n",
       "\n",
       "    .dataframe tbody tr th {\n",
       "        vertical-align: top;\n",
       "    }\n",
       "\n",
       "    .dataframe thead th {\n",
       "        text-align: right;\n",
       "    }\n",
       "</style>\n",
       "<table border=\"1\" class=\"dataframe\">\n",
       "  <thead>\n",
       "    <tr style=\"text-align: right;\">\n",
       "      <th></th>\n",
       "      <th>Education Level</th>\n",
       "      <th>Total Count</th>\n",
       "    </tr>\n",
       "  </thead>\n",
       "  <tbody>\n",
       "    <tr>\n",
       "      <th>0</th>\n",
       "      <td>Bachelor's Degree</td>\n",
       "      <td>124329</td>\n",
       "    </tr>\n",
       "    <tr>\n",
       "      <th>1</th>\n",
       "      <td>High School</td>\n",
       "      <td>118927</td>\n",
       "    </tr>\n",
       "    <tr>\n",
       "      <th>2</th>\n",
       "      <td>Associate Degree</td>\n",
       "      <td>79999</td>\n",
       "    </tr>\n",
       "    <tr>\n",
       "      <th>3</th>\n",
       "      <td>Master's Degree</td>\n",
       "      <td>73768</td>\n",
       "    </tr>\n",
       "    <tr>\n",
       "      <th>4</th>\n",
       "      <td>PhD</td>\n",
       "      <td>16745</td>\n",
       "    </tr>\n",
       "  </tbody>\n",
       "</table>\n",
       "</div>"
      ],
      "text/plain": [
       "     Education Level  Total Count\n",
       "0  Bachelor's Degree       124329\n",
       "1        High School       118927\n",
       "2   Associate Degree        79999\n",
       "3    Master's Degree        73768\n",
       "4                PhD        16745"
      ]
     },
     "execution_count": 37,
     "metadata": {},
     "output_type": "execute_result"
    }
   ],
   "source": [
    "Education_Level=pd.DataFrame(df['Education Level'].value_counts())\n",
    "Education_Level.rename_axis('Education Level',inplace=True)\n",
    "Education_Level.columns=['Total Count']\n",
    "Education_Level=Education_Level.reset_index()\n",
    "Education_Level"
   ]
  },
  {
   "cell_type": "code",
   "execution_count": 38,
   "id": "a3d21fa6-4a47-4452-bc7f-e3eb55a9eb2e",
   "metadata": {},
   "outputs": [
    {
     "data": {
      "image/png": "[encoded data removed]",
      "text/plain": [
       "<Figure size 800x500 with 1 Axes>"
      ]
     },
     "metadata": {},
     "output_type": "display_data"
    }
   ],
   "source": [
    "plt.figure(figsize=(8, 5))\n",
    "\n",
    "# Setting hue='Education Level' to avoid the FutureWarning\n",
    "bars = sns.barplot(x='Education Level', y='Total Count', data=Education_Level, \n",
    "                   hue='Education Level', palette=['#FF9999', '#66B2FF', '#99FF99', '#eea7fc', '#fbe7aa'], \n",
    "                   edgecolor='black', dodge=False)\n",
    "\n",
    "# Title and labels\n",
    "plt.title('Education Status Effect on Depression', fontsize=18, weight='bold')\n",
    "plt.xlabel('Education Status', fontsize=14, weight='bold')\n",
    "plt.ylabel('Depressed People', fontsize=14, weight='bold')\n",
    "\n",
    "# Adding labels to each bar\n",
    "for i in range(len(Education_Level)):\n",
    "    plt.text(i, Education_Level['Total Count'][i] + 0.5,  # Slightly above the bar\n",
    "             f'{Education_Level[\"Total Count\"][i]:,}', ha='center', va='bottom', \n",
    "             fontsize=12, fontweight='bold')\n",
    "\n",
    "# Remove the legend since hue is used only for color\n",
    "plt.legend([], [], frameon=False)\n",
    "\n",
    "# Tight layout for better spacing\n",
    "plt.tight_layout()\n",
    "\n",
    "plt.show()"
   ]
  },
  {
   "cell_type": "code",
   "execution_count": 39,
   "id": "facc3c5b-31ee-460a-be5f-290fc3142ee0",
   "metadata": {},
   "outputs": [
    {
     "data": {
      "text/html": [
       "<div>\n",
       "<style scoped>\n",
       "    .dataframe tbody tr th:only-of-type {\n",
       "        vertical-align: middle;\n",
       "    }\n",
       "\n",
       "    .dataframe tbody tr th {\n",
       "        vertical-align: top;\n",
       "    }\n",
       "\n",
       "    .dataframe thead th {\n",
       "        text-align: right;\n",
       "    }\n",
       "</style>\n",
       "<table border=\"1\" class=\"dataframe\">\n",
       "  <thead>\n",
       "    <tr style=\"text-align: right;\">\n",
       "      <th></th>\n",
       "      <th>Marital Status</th>\n",
       "      <th>Education Level</th>\n",
       "      <th>Count Of Married or Unmarried</th>\n",
       "    </tr>\n",
       "  </thead>\n",
       "  <tbody>\n",
       "    <tr>\n",
       "      <th>0</th>\n",
       "      <td>Divorced</td>\n",
       "      <td>Associate Degree</td>\n",
       "      <td>6661</td>\n",
       "    </tr>\n",
       "    <tr>\n",
       "      <th>1</th>\n",
       "      <td>Divorced</td>\n",
       "      <td>Bachelor's Degree</td>\n",
       "      <td>9812</td>\n",
       "    </tr>\n",
       "    <tr>\n",
       "      <th>2</th>\n",
       "      <td>Divorced</td>\n",
       "      <td>High School</td>\n",
       "      <td>8193</td>\n",
       "    </tr>\n",
       "    <tr>\n",
       "      <th>3</th>\n",
       "      <td>Divorced</td>\n",
       "      <td>Master's Degree</td>\n",
       "      <td>6455</td>\n",
       "    </tr>\n",
       "    <tr>\n",
       "      <th>4</th>\n",
       "      <td>Divorced</td>\n",
       "      <td>PhD</td>\n",
       "      <td>1608</td>\n",
       "    </tr>\n",
       "    <tr>\n",
       "      <th>5</th>\n",
       "      <td>Married</td>\n",
       "      <td>Associate Degree</td>\n",
       "      <td>47535</td>\n",
       "    </tr>\n",
       "    <tr>\n",
       "      <th>6</th>\n",
       "      <td>Married</td>\n",
       "      <td>Bachelor's Degree</td>\n",
       "      <td>73573</td>\n",
       "    </tr>\n",
       "    <tr>\n",
       "      <th>7</th>\n",
       "      <td>Married</td>\n",
       "      <td>High School</td>\n",
       "      <td>62126</td>\n",
       "    </tr>\n",
       "    <tr>\n",
       "      <th>8</th>\n",
       "      <td>Married</td>\n",
       "      <td>Master's Degree</td>\n",
       "      <td>46194</td>\n",
       "    </tr>\n",
       "    <tr>\n",
       "      <th>9</th>\n",
       "      <td>Married</td>\n",
       "      <td>PhD</td>\n",
       "      <td>11016</td>\n",
       "    </tr>\n",
       "    <tr>\n",
       "      <th>10</th>\n",
       "      <td>Single</td>\n",
       "      <td>Associate Degree</td>\n",
       "      <td>12109</td>\n",
       "    </tr>\n",
       "    <tr>\n",
       "      <th>11</th>\n",
       "      <td>Single</td>\n",
       "      <td>Bachelor's Degree</td>\n",
       "      <td>20345</td>\n",
       "    </tr>\n",
       "    <tr>\n",
       "      <th>12</th>\n",
       "      <td>Single</td>\n",
       "      <td>High School</td>\n",
       "      <td>31651</td>\n",
       "    </tr>\n",
       "    <tr>\n",
       "      <th>13</th>\n",
       "      <td>Single</td>\n",
       "      <td>Master's Degree</td>\n",
       "      <td>7314</td>\n",
       "    </tr>\n",
       "    <tr>\n",
       "      <th>14</th>\n",
       "      <td>Single</td>\n",
       "      <td>PhD</td>\n",
       "      <td>691</td>\n",
       "    </tr>\n",
       "    <tr>\n",
       "      <th>15</th>\n",
       "      <td>Widowed</td>\n",
       "      <td>Associate Degree</td>\n",
       "      <td>13694</td>\n",
       "    </tr>\n",
       "    <tr>\n",
       "      <th>16</th>\n",
       "      <td>Widowed</td>\n",
       "      <td>Bachelor's Degree</td>\n",
       "      <td>20599</td>\n",
       "    </tr>\n",
       "    <tr>\n",
       "      <th>17</th>\n",
       "      <td>Widowed</td>\n",
       "      <td>High School</td>\n",
       "      <td>16957</td>\n",
       "    </tr>\n",
       "    <tr>\n",
       "      <th>18</th>\n",
       "      <td>Widowed</td>\n",
       "      <td>Master's Degree</td>\n",
       "      <td>13805</td>\n",
       "    </tr>\n",
       "    <tr>\n",
       "      <th>19</th>\n",
       "      <td>Widowed</td>\n",
       "      <td>PhD</td>\n",
       "      <td>3430</td>\n",
       "    </tr>\n",
       "  </tbody>\n",
       "</table>\n",
       "</div>"
      ],
      "text/plain": [
       "   Marital Status    Education Level  Count Of Married or Unmarried\n",
       "0        Divorced   Associate Degree                           6661\n",
       "1        Divorced  Bachelor's Degree                           9812\n",
       "2        Divorced        High School                           8193\n",
       "3        Divorced    Master's Degree                           6455\n",
       "4        Divorced                PhD                           1608\n",
       "5         Married   Associate Degree                          47535\n",
       "6         Married  Bachelor's Degree                          73573\n",
       "7         Married        High School                          62126\n",
       "8         Married    Master's Degree                          46194\n",
       "9         Married                PhD                          11016\n",
       "10         Single   Associate Degree                          12109\n",
       "11         Single  Bachelor's Degree                          20345\n",
       "12         Single        High School                          31651\n",
       "13         Single    Master's Degree                           7314\n",
       "14         Single                PhD                            691\n",
       "15        Widowed   Associate Degree                          13694\n",
       "16        Widowed  Bachelor's Degree                          20599\n",
       "17        Widowed        High School                          16957\n",
       "18        Widowed    Master's Degree                          13805\n",
       "19        Widowed                PhD                           3430"
      ]
     },
     "execution_count": 39,
     "metadata": {},
     "output_type": "execute_result"
    }
   ],
   "source": [
    "Married_Education = df.groupby(['Marital Status','Education Level'])['Marital Status'].count().reset_index(name = \n",
    "                                                                                        'Count Of Married or Unmarried')\n",
    "Married_Education"
   ]
  },
  {
   "cell_type": "code",
   "execution_count": 40,
   "id": "728060b8-ad68-4125-be48-b79c99356f48",
   "metadata": {},
   "outputs": [
    {
     "data": {
      "image/png": "[encoded data removed]",
      "text/plain": [
       "<Figure size 1000x500 with 1 Axes>"
      ]
     },
     "metadata": {},
     "output_type": "display_data"
    }
   ],
   "source": [
    "fig, ax = plt.subplots(figsize= (10,5))\n",
    "sns.barplot(x = 'Education Level', y = 'Count Of Married or Unmarried',data = Married_Education,palette= \n",
    "            ['#FF9999', '#66B2FF', '#99FF99','#fbe7aa'], edgecolor='black',\n",
    " hue = 'Marital Status')\n",
    "plt.title('Marital and Educational status effect on depression ',fontsize=18,weight='bold')\n",
    "plt.xlabel('Education Level Status',fontsize=14,weight='bold')\n",
    "plt.ylabel('Depressed People',fontsize=14,weight='bold')\n",
    "plt.show()"
   ]
  },
  {
   "cell_type": "markdown",
   "id": "d1fb433b-fc46-4a34-a704-87caedc09590",
   "metadata": {},
   "source": [
    "## Calculating and visualizing :- Income Status Overview by age category¶"
   ]
  },
  {
   "cell_type": "code",
   "execution_count": 41,
   "id": "9d8c32da-6e7e-4f31-bc1d-657ed3db0af1",
   "metadata": {},
   "outputs": [],
   "source": [
    "bins=[0,19,65,81]\n",
    "labels=['teens(0-19)','adults(20-65)','seniors(66-100)']\n",
    "df['age_category']=pd.cut(Age_status['Age'],bins=bins,labels=labels)"
   ]
  },
  {
   "cell_type": "code",
   "execution_count": 42,
   "id": "0f7759e5-5d07-4fb4-81e1-3ba8f0befd4b",
   "metadata": {},
   "outputs": [
    {
     "data": {
      "text/html": [
       "<div>\n",
       "<style scoped>\n",
       "    .dataframe tbody tr th:only-of-type {\n",
       "        vertical-align: middle;\n",
       "    }\n",
       "\n",
       "    .dataframe tbody tr th {\n",
       "        vertical-align: top;\n",
       "    }\n",
       "\n",
       "    .dataframe thead th {\n",
       "        text-align: right;\n",
       "    }\n",
       "</style>\n",
       "<table border=\"1\" class=\"dataframe\">\n",
       "  <thead>\n",
       "    <tr style=\"text-align: right;\">\n",
       "      <th></th>\n",
       "      <th>Age</th>\n",
       "      <th>Marital Status</th>\n",
       "      <th>Education Level</th>\n",
       "      <th>Employment Status</th>\n",
       "      <th>Smoking Status</th>\n",
       "      <th>Family History of Depression</th>\n",
       "      <th>Income</th>\n",
       "    </tr>\n",
       "  </thead>\n",
       "  <tbody>\n",
       "    <tr>\n",
       "      <th>0</th>\n",
       "      <td>31</td>\n",
       "      <td>Married</td>\n",
       "      <td>Bachelor's Degree</td>\n",
       "      <td>Unemployed</td>\n",
       "      <td>Non-smoker</td>\n",
       "      <td>Yes</td>\n",
       "      <td>26265.67</td>\n",
       "    </tr>\n",
       "    <tr>\n",
       "      <th>1</th>\n",
       "      <td>55</td>\n",
       "      <td>Married</td>\n",
       "      <td>High School</td>\n",
       "      <td>Employed</td>\n",
       "      <td>Non-smoker</td>\n",
       "      <td>No</td>\n",
       "      <td>42710.36</td>\n",
       "    </tr>\n",
       "  </tbody>\n",
       "</table>\n",
       "</div>"
      ],
      "text/plain": [
       "   Age Marital Status    Education Level Employment Status Smoking Status  \\\n",
       "0   31        Married  Bachelor's Degree        Unemployed     Non-smoker   \n",
       "1   55        Married        High School          Employed     Non-smoker   \n",
       "\n",
       "  Family History of Depression    Income  \n",
       "0                          Yes  26265.67  \n",
       "1                           No  42710.36  "
      ]
     },
     "execution_count": 42,
     "metadata": {},
     "output_type": "execute_result"
    }
   ],
   "source": [
    "df_subset.head(2)"
   ]
  },
  {
   "cell_type": "code",
   "execution_count": 43,
   "id": "bea43e17-340b-4325-8a8c-e9ee94c15a8a",
   "metadata": {},
   "outputs": [],
   "source": [
    "income_overview = pd.DataFrame(df.groupby('age_category', observed=False)['Income'].sum()).reset_index()"
   ]
  },
  {
   "cell_type": "code",
   "execution_count": 44,
   "id": "273b9931-ad59-4c5b-afd4-bd1bfdf3818a",
   "metadata": {},
   "outputs": [
    {
     "data": {
      "text/html": [
       "<div>\n",
       "<style scoped>\n",
       "    .dataframe tbody tr th:only-of-type {\n",
       "        vertical-align: middle;\n",
       "    }\n",
       "\n",
       "    .dataframe tbody tr th {\n",
       "        vertical-align: top;\n",
       "    }\n",
       "\n",
       "    .dataframe thead th {\n",
       "        text-align: right;\n",
       "    }\n",
       "</style>\n",
       "<table border=\"1\" class=\"dataframe\">\n",
       "  <thead>\n",
       "    <tr style=\"text-align: right;\">\n",
       "      <th></th>\n",
       "      <th>age_category</th>\n",
       "      <th>Income</th>\n",
       "    </tr>\n",
       "  </thead>\n",
       "  <tbody>\n",
       "    <tr>\n",
       "      <th>0</th>\n",
       "      <td>teens(0-19)</td>\n",
       "      <td>106678.50</td>\n",
       "    </tr>\n",
       "    <tr>\n",
       "      <th>1</th>\n",
       "      <td>adults(20-65)</td>\n",
       "      <td>2149236.09</td>\n",
       "    </tr>\n",
       "    <tr>\n",
       "      <th>2</th>\n",
       "      <td>seniors(66-100)</td>\n",
       "      <td>693002.41</td>\n",
       "    </tr>\n",
       "  </tbody>\n",
       "</table>\n",
       "</div>"
      ],
      "text/plain": [
       "      age_category      Income\n",
       "0      teens(0-19)   106678.50\n",
       "1    adults(20-65)  2149236.09\n",
       "2  seniors(66-100)   693002.41"
      ]
     },
     "execution_count": 44,
     "metadata": {},
     "output_type": "execute_result"
    }
   ],
   "source": [
    "income_overview"
   ]
  },
  {
   "cell_type": "code",
   "execution_count": 45,
   "id": "effadb57-6644-45b4-8b36-b20aedffafee",
   "metadata": {},
   "outputs": [
    {
     "data": {
      "image/png": "[encoded data removed]",
      "text/plain": [
       "<Figure size 700x700 with 1 Axes>"
      ]
     },
     "metadata": {},
     "output_type": "display_data"
    }
   ],
   "source": [
    "plt.figure(figsize=(7,7))\n",
    "plt.pie(income_overview['Income'], labels=income_overview['age_category'], autopct='%1.1f%%', startangle=90, \n",
    "        colors=sns.color_palette('pastel'),shadow=True, wedgeprops={'edgecolor': 'black'})\n",
    "\n",
    "plt.title('Income Distribution by Age Category', fontsize=18, weight='bold')\n",
    "\n",
    "\n",
    "plt.show()"
   ]
  },
  {
   "cell_type": "code",
   "execution_count": 46,
   "id": "b7a17686-25f4-4b6b-b725-363fd7641924",
   "metadata": {
    "scrolled": true
   },
   "outputs": [
    {
     "data": {
      "image/png": "[encoded data removed]",
      "text/plain": [
       "<Figure size 1000x500 with 1 Axes>"
      ]
     },
     "metadata": {},
     "output_type": "display_data"
    }
   ],
   "source": [
    "fig, ax = plt.subplots(figsize= (10,5))\n",
    "sns.scatterplot(x = 'Education Level',y = 'Income',data = df.sort_values(by = []), hue = 'Employment Status' )\n",
    "plt.title('Educational levels effects on Income ',fontsize=18,weight='bold')\n",
    "plt.xlabel('Education Level Status',fontsize=14,weight='bold')\n",
    "plt.ylabel('Yearly Income',fontsize=14,weight='bold')\n",
    "plt.grid(color='#e2e2e6')\n",
    "plt.show()"
   ]
  },
  {
   "cell_type": "code",
   "execution_count": 47,
   "id": "b40a4fe4-f110-4436-b51b-a9d30e3d274f",
   "metadata": {
    "scrolled": true
   },
   "outputs": [
    {
     "data": {
      "text/html": [
       "<div>\n",
       "<style scoped>\n",
       "    .dataframe tbody tr th:only-of-type {\n",
       "        vertical-align: middle;\n",
       "    }\n",
       "\n",
       "    .dataframe tbody tr th {\n",
       "        vertical-align: top;\n",
       "    }\n",
       "\n",
       "    .dataframe thead th {\n",
       "        text-align: right;\n",
       "    }\n",
       "</style>\n",
       "<table border=\"1\" class=\"dataframe\">\n",
       "  <thead>\n",
       "    <tr style=\"text-align: right;\">\n",
       "      <th></th>\n",
       "      <th>Name</th>\n",
       "      <th>Age</th>\n",
       "      <th>Marital Status</th>\n",
       "      <th>Education Level</th>\n",
       "      <th>Number of Children</th>\n",
       "      <th>Smoking Status</th>\n",
       "      <th>Physical Activity Level</th>\n",
       "      <th>Employment Status</th>\n",
       "      <th>Income</th>\n",
       "      <th>Alcohol Consumption</th>\n",
       "      <th>Dietary Habits</th>\n",
       "      <th>Sleep Patterns</th>\n",
       "      <th>History of Mental Illness</th>\n",
       "      <th>History of Substance Abuse</th>\n",
       "      <th>Family History of Depression</th>\n",
       "      <th>Chronic Medical Conditions</th>\n",
       "      <th>age_category</th>\n",
       "    </tr>\n",
       "  </thead>\n",
       "  <tbody>\n",
       "    <tr>\n",
       "      <th>0</th>\n",
       "      <td>Christine Barker</td>\n",
       "      <td>31</td>\n",
       "      <td>Married</td>\n",
       "      <td>Bachelor's Degree</td>\n",
       "      <td>2</td>\n",
       "      <td>Non-smoker</td>\n",
       "      <td>Active</td>\n",
       "      <td>Unemployed</td>\n",
       "      <td>26265.67</td>\n",
       "      <td>Moderate</td>\n",
       "      <td>Moderate</td>\n",
       "      <td>Fair</td>\n",
       "      <td>Yes</td>\n",
       "      <td>No</td>\n",
       "      <td>Yes</td>\n",
       "      <td>Yes</td>\n",
       "      <td>adults(20-65)</td>\n",
       "    </tr>\n",
       "    <tr>\n",
       "      <th>1</th>\n",
       "      <td>Jacqueline Lewis</td>\n",
       "      <td>55</td>\n",
       "      <td>Married</td>\n",
       "      <td>High School</td>\n",
       "      <td>1</td>\n",
       "      <td>Non-smoker</td>\n",
       "      <td>Sedentary</td>\n",
       "      <td>Employed</td>\n",
       "      <td>42710.36</td>\n",
       "      <td>High</td>\n",
       "      <td>Unhealthy</td>\n",
       "      <td>Fair</td>\n",
       "      <td>Yes</td>\n",
       "      <td>No</td>\n",
       "      <td>No</td>\n",
       "      <td>Yes</td>\n",
       "      <td>adults(20-65)</td>\n",
       "    </tr>\n",
       "    <tr>\n",
       "      <th>2</th>\n",
       "      <td>Shannon Church</td>\n",
       "      <td>78</td>\n",
       "      <td>Widowed</td>\n",
       "      <td>Master's Degree</td>\n",
       "      <td>1</td>\n",
       "      <td>Non-smoker</td>\n",
       "      <td>Sedentary</td>\n",
       "      <td>Employed</td>\n",
       "      <td>125332.79</td>\n",
       "      <td>Low</td>\n",
       "      <td>Unhealthy</td>\n",
       "      <td>Good</td>\n",
       "      <td>No</td>\n",
       "      <td>No</td>\n",
       "      <td>Yes</td>\n",
       "      <td>No</td>\n",
       "      <td>adults(20-65)</td>\n",
       "    </tr>\n",
       "    <tr>\n",
       "      <th>3</th>\n",
       "      <td>Charles Jordan</td>\n",
       "      <td>58</td>\n",
       "      <td>Divorced</td>\n",
       "      <td>Master's Degree</td>\n",
       "      <td>3</td>\n",
       "      <td>Non-smoker</td>\n",
       "      <td>Moderate</td>\n",
       "      <td>Unemployed</td>\n",
       "      <td>9992.78</td>\n",
       "      <td>Moderate</td>\n",
       "      <td>Moderate</td>\n",
       "      <td>Poor</td>\n",
       "      <td>No</td>\n",
       "      <td>No</td>\n",
       "      <td>No</td>\n",
       "      <td>No</td>\n",
       "      <td>adults(20-65)</td>\n",
       "    </tr>\n",
       "    <tr>\n",
       "      <th>4</th>\n",
       "      <td>Michael Rich</td>\n",
       "      <td>18</td>\n",
       "      <td>Single</td>\n",
       "      <td>High School</td>\n",
       "      <td>0</td>\n",
       "      <td>Non-smoker</td>\n",
       "      <td>Sedentary</td>\n",
       "      <td>Unemployed</td>\n",
       "      <td>8595.08</td>\n",
       "      <td>Low</td>\n",
       "      <td>Moderate</td>\n",
       "      <td>Fair</td>\n",
       "      <td>Yes</td>\n",
       "      <td>No</td>\n",
       "      <td>Yes</td>\n",
       "      <td>Yes</td>\n",
       "      <td>adults(20-65)</td>\n",
       "    </tr>\n",
       "  </tbody>\n",
       "</table>\n",
       "</div>"
      ],
      "text/plain": [
       "               Name  Age Marital Status    Education Level  \\\n",
       "0  Christine Barker   31        Married  Bachelor's Degree   \n",
       "1  Jacqueline Lewis   55        Married        High School   \n",
       "2    Shannon Church   78        Widowed    Master's Degree   \n",
       "3    Charles Jordan   58       Divorced    Master's Degree   \n",
       "4      Michael Rich   18         Single        High School   \n",
       "\n",
       "   Number of Children Smoking Status Physical Activity Level  \\\n",
       "0                   2     Non-smoker                  Active   \n",
       "1                   1     Non-smoker               Sedentary   \n",
       "2                   1     Non-smoker               Sedentary   \n",
       "3                   3     Non-smoker                Moderate   \n",
       "4                   0     Non-smoker               Sedentary   \n",
       "\n",
       "  Employment Status     Income Alcohol Consumption Dietary Habits  \\\n",
       "0        Unemployed   26265.67            Moderate       Moderate   \n",
       "1          Employed   42710.36                High      Unhealthy   \n",
       "2          Employed  125332.79                 Low      Unhealthy   \n",
       "3        Unemployed    9992.78            Moderate       Moderate   \n",
       "4        Unemployed    8595.08                 Low       Moderate   \n",
       "\n",
       "  Sleep Patterns History of Mental Illness History of Substance Abuse  \\\n",
       "0           Fair                       Yes                         No   \n",
       "1           Fair                       Yes                         No   \n",
       "2           Good                        No                         No   \n",
       "3           Poor                        No                         No   \n",
       "4           Fair                       Yes                         No   \n",
       "\n",
       "  Family History of Depression Chronic Medical Conditions   age_category  \n",
       "0                          Yes                        Yes  adults(20-65)  \n",
       "1                           No                        Yes  adults(20-65)  \n",
       "2                          Yes                         No  adults(20-65)  \n",
       "3                           No                         No  adults(20-65)  \n",
       "4                          Yes                        Yes  adults(20-65)  "
      ]
     },
     "execution_count": 47,
     "metadata": {},
     "output_type": "execute_result"
    }
   ],
   "source": [
    "df.head()"
   ]
  },
  {
   "cell_type": "code",
   "execution_count": 48,
   "id": "56fec094-da9d-4034-a668-a1626ad5f475",
   "metadata": {},
   "outputs": [
    {
     "data": {
      "text/html": [
       "<div>\n",
       "<style scoped>\n",
       "    .dataframe tbody tr th:only-of-type {\n",
       "        vertical-align: middle;\n",
       "    }\n",
       "\n",
       "    .dataframe tbody tr th {\n",
       "        vertical-align: top;\n",
       "    }\n",
       "\n",
       "    .dataframe thead th {\n",
       "        text-align: right;\n",
       "    }\n",
       "</style>\n",
       "<table border=\"1\" class=\"dataframe\">\n",
       "  <thead>\n",
       "    <tr style=\"text-align: right;\">\n",
       "      <th></th>\n",
       "      <th>History of Mental Illness</th>\n",
       "      <th>Total Count</th>\n",
       "    </tr>\n",
       "  </thead>\n",
       "  <tbody>\n",
       "    <tr>\n",
       "      <th>0</th>\n",
       "      <td>No</td>\n",
       "      <td>287943</td>\n",
       "    </tr>\n",
       "    <tr>\n",
       "      <th>1</th>\n",
       "      <td>Yes</td>\n",
       "      <td>125825</td>\n",
       "    </tr>\n",
       "  </tbody>\n",
       "</table>\n",
       "</div>"
      ],
      "text/plain": [
       "  History of Mental Illness  Total Count\n",
       "0                        No       287943\n",
       "1                       Yes       125825"
      ]
     },
     "execution_count": 48,
     "metadata": {},
     "output_type": "execute_result"
    }
   ],
   "source": [
    "mental_illness_history=pd.DataFrame(df['History of Mental Illness'].value_counts())\n",
    "mental_illness_history.rename_axis('History of Mental Illness',inplace=True)\n",
    "mental_illness_history.columns=['Total Count']\n",
    "mental_illness_history=mental_illness_history.reset_index()\n",
    "mental_illness_history"
   ]
  },
  {
   "cell_type": "code",
   "execution_count": 49,
   "id": "6710e3d3-b3c3-49b8-80de-d9ed9814b92a",
   "metadata": {},
   "outputs": [
    {
     "name": "stderr",
     "output_type": "stream",
     "text": [
      "/tmp/ipykernel_650088/71495593.py:3: FutureWarning: \n",
      "\n",
      "Passing `palette` without assigning `hue` is deprecated and will be removed in v0.14.0. Assign the `x` variable to `hue` and set `legend=False` for the same effect.\n",
      "\n",
      "  bars = sns.barplot(x='History of Mental Illness', y='Total Count', data=mental_illness_history,\n"
     ]
    },
    {
     "data": {
      "image/png": "[encoded data removed]",
      "text/plain": [
       "<Figure size 800x500 with 1 Axes>"
      ]
     },
     "metadata": {},
     "output_type": "display_data"
    }
   ],
   "source": [
    "plt.figure(figsize=(8, 5))\n",
    "# Jika hanya ada dua kategori, sesuaikan palet warnanya\n",
    "bars = sns.barplot(x='History of Mental Illness', y='Total Count', data=mental_illness_history, \n",
    "                   palette=['#FF9999', '#66B2FF'], edgecolor='black')\n",
    "\n",
    "plt.title('History of Mental Illness Effect on Depression', fontsize=18, weight='bold')\n",
    "plt.xlabel('Having Mental Illness', fontsize=14, weight='bold')\n",
    "plt.ylabel('Depressed People', fontsize=14, weight='bold')\n",
    "\n",
    "for i in range(len(mental_illness_history)):\n",
    "    plt.text(i, mental_illness_history['Total Count'][i],   # X and Y coordinates\n",
    "             f'{mental_illness_history[\"Total Count\"][i]:,}', # Text to display\n",
    "             ha='center', va='bottom', fontsize=12, fontweight='bold')\n",
    "    \n",
    "plt.tight_layout()\n",
    "plt.show()"
   ]
  },
  {
   "cell_type": "markdown",
   "id": "c9bf891d-c5cd-4347-b04a-856bd3308a42",
   "metadata": {},
   "source": [
    "## Modelling\n",
    "\n",
    "\n"
   ]
  },
  {
   "cell_type": "markdown",
   "id": "3344bd22-146f-4238-9e31-1a49b2d7076a",
   "metadata": {},
   "source": [
    "# Scaling and Encoding"
   ]
  },
  {
   "cell_type": "code",
   "execution_count": 50,
   "id": "859316c9-eb4d-4946-b6ac-50e6751cf747",
   "metadata": {},
   "outputs": [],
   "source": [
    "\n",
    "from sklearn.preprocessing import RobustScaler\n",
    "from sklearn.model_selection import train_test_split\n",
    "from sklearn.linear_model import LinearRegression\n",
    "from sklearn.metrics import accuracy_score,mean_squared_error, r2_score\n",
    "\n",
    "from sklearn import preprocessing\n",
    "from sklearn.linear_model import LogisticRegression\n",
    "from sklearn import metrics\n",
    "from sklearn.metrics import classification_report\n",
    "\n",
    "from sklearn.model_selection import cross_val_score, KFold\n",
    "from sklearn.neighbors import KNeighborsClassifier\n",
    "from sklearn.metrics import accuracy_score, classification_report, roc_auc_score"
   ]
  },
  {
   "cell_type": "code",
   "execution_count": 63,
   "id": "37dcc553-648a-4db4-b4da-eb18e26999bc",
   "metadata": {},
   "outputs": [],
   "source": [
    "# Menyimpan nama kolom yang berjenis kategori ke dalam variabel cat_col\n",
    "cat_col = ['Marital Status','Education Level','Employment Status','Smoking Status','Family History of Depression']"
   ]
  },
  {
   "cell_type": "code",
   "execution_count": 64,
   "id": "22026e8b-1a4c-435c-840a-659924e3f6c5",
   "metadata": {},
   "outputs": [],
   "source": [
    "from sklearn import preprocessing\n",
    "\n",
    "# Encoding Kolom Kategori\n",
    "le = preprocessing.LabelEncoder()\n",
    "\n",
    "# Gunakan .loc untuk menghindari SettingWithCopyWarning\n",
    "df_subset.loc[:, cat_col] = df_subset[cat_col].apply(le.fit_transform)"
   ]
  },
  {
   "cell_type": "code",
   "execution_count": 65,
   "id": "8c5c5dcf-7c4b-46f1-bd2b-7dd2b6c41e09",
   "metadata": {},
   "outputs": [
    {
     "data": {
      "text/html": [
       "<div>\n",
       "<style scoped>\n",
       "    .dataframe tbody tr th:only-of-type {\n",
       "        vertical-align: middle;\n",
       "    }\n",
       "\n",
       "    .dataframe tbody tr th {\n",
       "        vertical-align: top;\n",
       "    }\n",
       "\n",
       "    .dataframe thead th {\n",
       "        text-align: right;\n",
       "    }\n",
       "</style>\n",
       "<table border=\"1\" class=\"dataframe\">\n",
       "  <thead>\n",
       "    <tr style=\"text-align: right;\">\n",
       "      <th></th>\n",
       "      <th>Age</th>\n",
       "      <th>Marital Status</th>\n",
       "      <th>Education Level</th>\n",
       "      <th>Employment Status</th>\n",
       "      <th>Smoking Status</th>\n",
       "      <th>Family History of Depression</th>\n",
       "      <th>Income</th>\n",
       "    </tr>\n",
       "  </thead>\n",
       "  <tbody>\n",
       "    <tr>\n",
       "      <th>0</th>\n",
       "      <td>31</td>\n",
       "      <td>1</td>\n",
       "      <td>1</td>\n",
       "      <td>1</td>\n",
       "      <td>2</td>\n",
       "      <td>1</td>\n",
       "      <td>26265.67</td>\n",
       "    </tr>\n",
       "    <tr>\n",
       "      <th>1</th>\n",
       "      <td>55</td>\n",
       "      <td>1</td>\n",
       "      <td>2</td>\n",
       "      <td>0</td>\n",
       "      <td>2</td>\n",
       "      <td>0</td>\n",
       "      <td>42710.36</td>\n",
       "    </tr>\n",
       "    <tr>\n",
       "      <th>2</th>\n",
       "      <td>78</td>\n",
       "      <td>3</td>\n",
       "      <td>3</td>\n",
       "      <td>0</td>\n",
       "      <td>2</td>\n",
       "      <td>1</td>\n",
       "      <td>125332.79</td>\n",
       "    </tr>\n",
       "    <tr>\n",
       "      <th>3</th>\n",
       "      <td>58</td>\n",
       "      <td>0</td>\n",
       "      <td>3</td>\n",
       "      <td>1</td>\n",
       "      <td>2</td>\n",
       "      <td>0</td>\n",
       "      <td>9992.78</td>\n",
       "    </tr>\n",
       "    <tr>\n",
       "      <th>4</th>\n",
       "      <td>18</td>\n",
       "      <td>2</td>\n",
       "      <td>2</td>\n",
       "      <td>1</td>\n",
       "      <td>2</td>\n",
       "      <td>1</td>\n",
       "      <td>8595.08</td>\n",
       "    </tr>\n",
       "  </tbody>\n",
       "</table>\n",
       "</div>"
      ],
      "text/plain": [
       "   Age Marital Status Education Level Employment Status Smoking Status  \\\n",
       "0   31              1               1                 1              2   \n",
       "1   55              1               2                 0              2   \n",
       "2   78              3               3                 0              2   \n",
       "3   58              0               3                 1              2   \n",
       "4   18              2               2                 1              2   \n",
       "\n",
       "  Family History of Depression     Income  \n",
       "0                            1   26265.67  \n",
       "1                            0   42710.36  \n",
       "2                            1  125332.79  \n",
       "3                            0    9992.78  \n",
       "4                            1    8595.08  "
      ]
     },
     "execution_count": 65,
     "metadata": {},
     "output_type": "execute_result"
    }
   ],
   "source": [
    "df_subset.head()"
   ]
  },
  {
   "cell_type": "code",
   "execution_count": 66,
   "id": "1726ac8a-2273-45b4-8ce3-5923056af81b",
   "metadata": {},
   "outputs": [],
   "source": [
    "# Robust Scaling\n",
    "scaler = preprocessing.RobustScaler()\n",
    "robust_df = scaler.fit_transform(df_subset[['Age', 'Income']])"
   ]
  },
  {
   "cell_type": "code",
   "execution_count": 67,
   "id": "c501f8bf-063a-4df4-aade-81875c5d4ab4",
   "metadata": {},
   "outputs": [],
   "source": [
    "# Membuat variabel independen (X) dan variabel dependen (y)\n",
    "X = df_subset[['Age', 'Marital Status', 'Education Level', 'Employment Status', 'Smoking Status', 'Income',]]\n",
    "y = df_subset[['Family History of Depression']]"
   ]
  },
  {
   "cell_type": "code",
   "execution_count": 68,
   "id": "d2ffafc0-a6cc-43aa-b113-95b6bd81013b",
   "metadata": {},
   "outputs": [
    {
     "data": {
      "text/html": [
       "<div>\n",
       "<style scoped>\n",
       "    .dataframe tbody tr th:only-of-type {\n",
       "        vertical-align: middle;\n",
       "    }\n",
       "\n",
       "    .dataframe tbody tr th {\n",
       "        vertical-align: top;\n",
       "    }\n",
       "\n",
       "    .dataframe thead th {\n",
       "        text-align: right;\n",
       "    }\n",
       "</style>\n",
       "<table border=\"1\" class=\"dataframe\">\n",
       "  <thead>\n",
       "    <tr style=\"text-align: right;\">\n",
       "      <th></th>\n",
       "      <th>Age</th>\n",
       "      <th>Marital Status</th>\n",
       "      <th>Education Level</th>\n",
       "      <th>Employment Status</th>\n",
       "      <th>Smoking Status</th>\n",
       "      <th>Income</th>\n",
       "    </tr>\n",
       "  </thead>\n",
       "  <tbody>\n",
       "    <tr>\n",
       "      <th>0</th>\n",
       "      <td>31</td>\n",
       "      <td>1</td>\n",
       "      <td>1</td>\n",
       "      <td>1</td>\n",
       "      <td>2</td>\n",
       "      <td>26265.67</td>\n",
       "    </tr>\n",
       "    <tr>\n",
       "      <th>1</th>\n",
       "      <td>55</td>\n",
       "      <td>1</td>\n",
       "      <td>2</td>\n",
       "      <td>0</td>\n",
       "      <td>2</td>\n",
       "      <td>42710.36</td>\n",
       "    </tr>\n",
       "    <tr>\n",
       "      <th>2</th>\n",
       "      <td>78</td>\n",
       "      <td>3</td>\n",
       "      <td>3</td>\n",
       "      <td>0</td>\n",
       "      <td>2</td>\n",
       "      <td>125332.79</td>\n",
       "    </tr>\n",
       "    <tr>\n",
       "      <th>3</th>\n",
       "      <td>58</td>\n",
       "      <td>0</td>\n",
       "      <td>3</td>\n",
       "      <td>1</td>\n",
       "      <td>2</td>\n",
       "      <td>9992.78</td>\n",
       "    </tr>\n",
       "    <tr>\n",
       "      <th>4</th>\n",
       "      <td>18</td>\n",
       "      <td>2</td>\n",
       "      <td>2</td>\n",
       "      <td>1</td>\n",
       "      <td>2</td>\n",
       "      <td>8595.08</td>\n",
       "    </tr>\n",
       "    <tr>\n",
       "      <th>...</th>\n",
       "      <td>...</td>\n",
       "      <td>...</td>\n",
       "      <td>...</td>\n",
       "      <td>...</td>\n",
       "      <td>...</td>\n",
       "      <td>...</td>\n",
       "    </tr>\n",
       "    <tr>\n",
       "      <th>413763</th>\n",
       "      <td>68</td>\n",
       "      <td>1</td>\n",
       "      <td>3</td>\n",
       "      <td>0</td>\n",
       "      <td>1</td>\n",
       "      <td>109233.43</td>\n",
       "    </tr>\n",
       "    <tr>\n",
       "      <th>413764</th>\n",
       "      <td>26</td>\n",
       "      <td>2</td>\n",
       "      <td>1</td>\n",
       "      <td>0</td>\n",
       "      <td>0</td>\n",
       "      <td>96760.97</td>\n",
       "    </tr>\n",
       "    <tr>\n",
       "      <th>413765</th>\n",
       "      <td>57</td>\n",
       "      <td>1</td>\n",
       "      <td>1</td>\n",
       "      <td>0</td>\n",
       "      <td>2</td>\n",
       "      <td>77353.26</td>\n",
       "    </tr>\n",
       "    <tr>\n",
       "      <th>413766</th>\n",
       "      <td>71</td>\n",
       "      <td>1</td>\n",
       "      <td>0</td>\n",
       "      <td>1</td>\n",
       "      <td>2</td>\n",
       "      <td>24557.08</td>\n",
       "    </tr>\n",
       "    <tr>\n",
       "      <th>413767</th>\n",
       "      <td>62</td>\n",
       "      <td>3</td>\n",
       "      <td>3</td>\n",
       "      <td>0</td>\n",
       "      <td>1</td>\n",
       "      <td>107125.74</td>\n",
       "    </tr>\n",
       "  </tbody>\n",
       "</table>\n",
       "<p>413768 rows × 6 columns</p>\n",
       "</div>"
      ],
      "text/plain": [
       "        Age Marital Status Education Level Employment Status Smoking Status  \\\n",
       "0        31              1               1                 1              2   \n",
       "1        55              1               2                 0              2   \n",
       "2        78              3               3                 0              2   \n",
       "3        58              0               3                 1              2   \n",
       "4        18              2               2                 1              2   \n",
       "...     ...            ...             ...               ...            ...   \n",
       "413763   68              1               3                 0              1   \n",
       "413764   26              2               1                 0              0   \n",
       "413765   57              1               1                 0              2   \n",
       "413766   71              1               0                 1              2   \n",
       "413767   62              3               3                 0              1   \n",
       "\n",
       "           Income  \n",
       "0        26265.67  \n",
       "1        42710.36  \n",
       "2       125332.79  \n",
       "3         9992.78  \n",
       "4         8595.08  \n",
       "...           ...  \n",
       "413763  109233.43  \n",
       "413764   96760.97  \n",
       "413765   77353.26  \n",
       "413766   24557.08  \n",
       "413767  107125.74  \n",
       "\n",
       "[413768 rows x 6 columns]"
      ]
     },
     "execution_count": 68,
     "metadata": {},
     "output_type": "execute_result"
    }
   ],
   "source": [
    "X"
   ]
  },
  {
   "cell_type": "code",
   "execution_count": 69,
   "id": "06a804e8-c207-4bfe-9720-351f76386e1a",
   "metadata": {},
   "outputs": [],
   "source": [
    "# Membagi dataset ke data latih dan data uji\n",
    "from sklearn.model_selection import train_test_split\n",
    "X_train, X_test, y_train, y_test = train_test_split(X,y,test_size=0.3, random_state=0)"
   ]
  },
  {
   "cell_type": "code",
   "execution_count": 71,
   "id": "e61b31ed-45c4-43f8-9d63-7a9450bbae8b",
   "metadata": {},
   "outputs": [
    {
     "data": {
      "text/html": [
       "<div>\n",
       "<style scoped>\n",
       "    .dataframe tbody tr th:only-of-type {\n",
       "        vertical-align: middle;\n",
       "    }\n",
       "\n",
       "    .dataframe tbody tr th {\n",
       "        vertical-align: top;\n",
       "    }\n",
       "\n",
       "    .dataframe thead th {\n",
       "        text-align: right;\n",
       "    }\n",
       "</style>\n",
       "<table border=\"1\" class=\"dataframe\">\n",
       "  <thead>\n",
       "    <tr style=\"text-align: right;\">\n",
       "      <th></th>\n",
       "      <th>Age</th>\n",
       "      <th>Marital Status</th>\n",
       "      <th>Education Level</th>\n",
       "      <th>Employment Status</th>\n",
       "      <th>Smoking Status</th>\n",
       "      <th>Income</th>\n",
       "    </tr>\n",
       "  </thead>\n",
       "  <tbody>\n",
       "    <tr>\n",
       "      <th>41816</th>\n",
       "      <td>72</td>\n",
       "      <td>3</td>\n",
       "      <td>0</td>\n",
       "      <td>1</td>\n",
       "      <td>2</td>\n",
       "      <td>10391.01</td>\n",
       "    </tr>\n",
       "    <tr>\n",
       "      <th>68830</th>\n",
       "      <td>74</td>\n",
       "      <td>1</td>\n",
       "      <td>1</td>\n",
       "      <td>1</td>\n",
       "      <td>1</td>\n",
       "      <td>22968.18</td>\n",
       "    </tr>\n",
       "    <tr>\n",
       "      <th>174928</th>\n",
       "      <td>77</td>\n",
       "      <td>1</td>\n",
       "      <td>0</td>\n",
       "      <td>1</td>\n",
       "      <td>1</td>\n",
       "      <td>26663.61</td>\n",
       "    </tr>\n",
       "    <tr>\n",
       "      <th>184244</th>\n",
       "      <td>62</td>\n",
       "      <td>1</td>\n",
       "      <td>3</td>\n",
       "      <td>1</td>\n",
       "      <td>2</td>\n",
       "      <td>4504.88</td>\n",
       "    </tr>\n",
       "    <tr>\n",
       "      <th>136652</th>\n",
       "      <td>76</td>\n",
       "      <td>1</td>\n",
       "      <td>1</td>\n",
       "      <td>0</td>\n",
       "      <td>2</td>\n",
       "      <td>81573.59</td>\n",
       "    </tr>\n",
       "    <tr>\n",
       "      <th>...</th>\n",
       "      <td>...</td>\n",
       "      <td>...</td>\n",
       "      <td>...</td>\n",
       "      <td>...</td>\n",
       "      <td>...</td>\n",
       "      <td>...</td>\n",
       "    </tr>\n",
       "    <tr>\n",
       "      <th>359783</th>\n",
       "      <td>56</td>\n",
       "      <td>1</td>\n",
       "      <td>2</td>\n",
       "      <td>1</td>\n",
       "      <td>2</td>\n",
       "      <td>831.35</td>\n",
       "    </tr>\n",
       "    <tr>\n",
       "      <th>358083</th>\n",
       "      <td>59</td>\n",
       "      <td>0</td>\n",
       "      <td>1</td>\n",
       "      <td>0</td>\n",
       "      <td>2</td>\n",
       "      <td>91921.24</td>\n",
       "    </tr>\n",
       "    <tr>\n",
       "      <th>152315</th>\n",
       "      <td>47</td>\n",
       "      <td>1</td>\n",
       "      <td>3</td>\n",
       "      <td>1</td>\n",
       "      <td>2</td>\n",
       "      <td>13999.95</td>\n",
       "    </tr>\n",
       "    <tr>\n",
       "      <th>117952</th>\n",
       "      <td>32</td>\n",
       "      <td>2</td>\n",
       "      <td>1</td>\n",
       "      <td>0</td>\n",
       "      <td>2</td>\n",
       "      <td>88652.17</td>\n",
       "    </tr>\n",
       "    <tr>\n",
       "      <th>305711</th>\n",
       "      <td>18</td>\n",
       "      <td>2</td>\n",
       "      <td>2</td>\n",
       "      <td>0</td>\n",
       "      <td>0</td>\n",
       "      <td>33783.59</td>\n",
       "    </tr>\n",
       "  </tbody>\n",
       "</table>\n",
       "<p>289637 rows × 6 columns</p>\n",
       "</div>"
      ],
      "text/plain": [
       "        Age Marital Status Education Level Employment Status Smoking Status  \\\n",
       "41816    72              3               0                 1              2   \n",
       "68830    74              1               1                 1              1   \n",
       "174928   77              1               0                 1              1   \n",
       "184244   62              1               3                 1              2   \n",
       "136652   76              1               1                 0              2   \n",
       "...     ...            ...             ...               ...            ...   \n",
       "359783   56              1               2                 1              2   \n",
       "358083   59              0               1                 0              2   \n",
       "152315   47              1               3                 1              2   \n",
       "117952   32              2               1                 0              2   \n",
       "305711   18              2               2                 0              0   \n",
       "\n",
       "          Income  \n",
       "41816   10391.01  \n",
       "68830   22968.18  \n",
       "174928  26663.61  \n",
       "184244   4504.88  \n",
       "136652  81573.59  \n",
       "...          ...  \n",
       "359783    831.35  \n",
       "358083  91921.24  \n",
       "152315  13999.95  \n",
       "117952  88652.17  \n",
       "305711  33783.59  \n",
       "\n",
       "[289637 rows x 6 columns]"
      ]
     },
     "execution_count": 71,
     "metadata": {},
     "output_type": "execute_result"
    }
   ],
   "source": [
    "X_train"
   ]
  },
  {
   "cell_type": "code",
   "execution_count": 74,
   "id": "25f49f94-4438-4393-8398-53807b2c2686",
   "metadata": {},
   "outputs": [
    {
     "data": {
      "text/html": [
       "<div>\n",
       "<style scoped>\n",
       "    .dataframe tbody tr th:only-of-type {\n",
       "        vertical-align: middle;\n",
       "    }\n",
       "\n",
       "    .dataframe tbody tr th {\n",
       "        vertical-align: top;\n",
       "    }\n",
       "\n",
       "    .dataframe thead th {\n",
       "        text-align: right;\n",
       "    }\n",
       "</style>\n",
       "<table border=\"1\" class=\"dataframe\">\n",
       "  <thead>\n",
       "    <tr style=\"text-align: right;\">\n",
       "      <th></th>\n",
       "      <th>Family History of Depression</th>\n",
       "    </tr>\n",
       "  </thead>\n",
       "  <tbody>\n",
       "    <tr>\n",
       "      <th>0</th>\n",
       "      <td>1</td>\n",
       "    </tr>\n",
       "    <tr>\n",
       "      <th>1</th>\n",
       "      <td>0</td>\n",
       "    </tr>\n",
       "    <tr>\n",
       "      <th>2</th>\n",
       "      <td>1</td>\n",
       "    </tr>\n",
       "    <tr>\n",
       "      <th>3</th>\n",
       "      <td>0</td>\n",
       "    </tr>\n",
       "    <tr>\n",
       "      <th>4</th>\n",
       "      <td>1</td>\n",
       "    </tr>\n",
       "    <tr>\n",
       "      <th>...</th>\n",
       "      <td>...</td>\n",
       "    </tr>\n",
       "    <tr>\n",
       "      <th>413763</th>\n",
       "      <td>0</td>\n",
       "    </tr>\n",
       "    <tr>\n",
       "      <th>413764</th>\n",
       "      <td>0</td>\n",
       "    </tr>\n",
       "    <tr>\n",
       "      <th>413765</th>\n",
       "      <td>1</td>\n",
       "    </tr>\n",
       "    <tr>\n",
       "      <th>413766</th>\n",
       "      <td>0</td>\n",
       "    </tr>\n",
       "    <tr>\n",
       "      <th>413767</th>\n",
       "      <td>0</td>\n",
       "    </tr>\n",
       "  </tbody>\n",
       "</table>\n",
       "<p>413768 rows × 1 columns</p>\n",
       "</div>"
      ],
      "text/plain": [
       "       Family History of Depression\n",
       "0                                 1\n",
       "1                                 0\n",
       "2                                 1\n",
       "3                                 0\n",
       "4                                 1\n",
       "...                             ...\n",
       "413763                            0\n",
       "413764                            0\n",
       "413765                            1\n",
       "413766                            0\n",
       "413767                            0\n",
       "\n",
       "[413768 rows x 1 columns]"
      ]
     },
     "execution_count": 74,
     "metadata": {},
     "output_type": "execute_result"
    }
   ],
   "source": [
    "y"
   ]
  },
  {
   "cell_type": "code",
   "execution_count": 75,
   "id": "8ddcd5fe-4a4b-4d55-8161-e7635bde6bab",
   "metadata": {},
   "outputs": [
    {
     "data": {
      "text/html": [
       "<div>\n",
       "<style scoped>\n",
       "    .dataframe tbody tr th:only-of-type {\n",
       "        vertical-align: middle;\n",
       "    }\n",
       "\n",
       "    .dataframe tbody tr th {\n",
       "        vertical-align: top;\n",
       "    }\n",
       "\n",
       "    .dataframe thead th {\n",
       "        text-align: right;\n",
       "    }\n",
       "</style>\n",
       "<table border=\"1\" class=\"dataframe\">\n",
       "  <thead>\n",
       "    <tr style=\"text-align: right;\">\n",
       "      <th></th>\n",
       "      <th>Family History of Depression</th>\n",
       "    </tr>\n",
       "  </thead>\n",
       "  <tbody>\n",
       "    <tr>\n",
       "      <th>41816</th>\n",
       "      <td>0</td>\n",
       "    </tr>\n",
       "    <tr>\n",
       "      <th>68830</th>\n",
       "      <td>0</td>\n",
       "    </tr>\n",
       "    <tr>\n",
       "      <th>174928</th>\n",
       "      <td>0</td>\n",
       "    </tr>\n",
       "    <tr>\n",
       "      <th>184244</th>\n",
       "      <td>0</td>\n",
       "    </tr>\n",
       "    <tr>\n",
       "      <th>136652</th>\n",
       "      <td>0</td>\n",
       "    </tr>\n",
       "    <tr>\n",
       "      <th>...</th>\n",
       "      <td>...</td>\n",
       "    </tr>\n",
       "    <tr>\n",
       "      <th>359783</th>\n",
       "      <td>1</td>\n",
       "    </tr>\n",
       "    <tr>\n",
       "      <th>358083</th>\n",
       "      <td>0</td>\n",
       "    </tr>\n",
       "    <tr>\n",
       "      <th>152315</th>\n",
       "      <td>0</td>\n",
       "    </tr>\n",
       "    <tr>\n",
       "      <th>117952</th>\n",
       "      <td>1</td>\n",
       "    </tr>\n",
       "    <tr>\n",
       "      <th>305711</th>\n",
       "      <td>0</td>\n",
       "    </tr>\n",
       "  </tbody>\n",
       "</table>\n",
       "<p>289637 rows × 1 columns</p>\n",
       "</div>"
      ],
      "text/plain": [
       "       Family History of Depression\n",
       "41816                             0\n",
       "68830                             0\n",
       "174928                            0\n",
       "184244                            0\n",
       "136652                            0\n",
       "...                             ...\n",
       "359783                            1\n",
       "358083                            0\n",
       "152315                            0\n",
       "117952                            1\n",
       "305711                            0\n",
       "\n",
       "[289637 rows x 1 columns]"
      ]
     },
     "execution_count": 75,
     "metadata": {},
     "output_type": "execute_result"
    }
   ],
   "source": [
    "y_train"
   ]
  },
  {
   "cell_type": "code",
   "execution_count": 78,
   "id": "0f9d77a2-2471-480b-a8d3-c8ca28c2834b",
   "metadata": {},
   "outputs": [
    {
     "name": "stdout",
     "output_type": "stream",
     "text": [
      "[0 1]\n"
     ]
    }
   ],
   "source": [
    "print(y_train['Family History of Depression'].unique())"
   ]
  },
  {
   "cell_type": "code",
   "execution_count": 79,
   "id": "f5fe4a07-fa1c-49f1-bfa5-c5db6670d86f",
   "metadata": {},
   "outputs": [],
   "source": [
    "y_train['Family History of Depression'] = y_train['Family History of Depression'].astype(int)"
   ]
  },
  {
   "cell_type": "code",
   "execution_count": 80,
   "id": "9cd034bf-cf8b-46eb-9eb2-c9007fc11ad9",
   "metadata": {},
   "outputs": [],
   "source": [
    "le = preprocessing.LabelEncoder()\n",
    "y_train = le.fit_transform(y_train['Family History of Depression'])"
   ]
  },
  {
   "cell_type": "code",
   "execution_count": 72,
   "id": "038a36fa-1873-4391-bbd2-ead64491476e",
   "metadata": {},
   "outputs": [],
   "source": [
    "# Membuat Model - Import Library\n",
    "from sklearn.model_selection import cross_val_score, KFold\n",
    "from sklearn.neighbors import KNeighborsClassifier\n",
    "from sklearn.metrics import accuracy_score, classification_report, roc_auc_score"
   ]
  },
  {
   "cell_type": "code",
   "execution_count": 82,
   "id": "9bafa185-0da7-4cb8-9867-04e89ba130ce",
   "metadata": {},
   "outputs": [
    {
     "name": "stdout",
     "output_type": "stream",
     "text": [
      "Akurasi: 0.66\n",
      "Matriks Kebingungan:\n",
      "[[75063 15878]\n",
      " [26789  6401]]\n",
      "Laporan Klasifikasi:\n",
      "              precision    recall  f1-score   support\n",
      "\n",
      "           0       0.74      0.83      0.78     90941\n",
      "           1       0.29      0.19      0.23     33190\n",
      "\n",
      "    accuracy                           0.66    124131\n",
      "   macro avg       0.51      0.51      0.50    124131\n",
      "weighted avg       0.62      0.66      0.63    124131\n",
      "\n"
     ]
    }
   ],
   "source": [
    "from sklearn.neighbors import KNeighborsClassifier\n",
    "from sklearn.model_selection import train_test_split\n",
    "from sklearn.metrics import accuracy_score, classification_report, confusion_matrix\n",
    "\n",
    "# Memastikan bahwa y berisi nilai diskrit\n",
    "y = y['Family History of Depression'].astype(int)  # Pastikan ini dari DataFrame Anda\n",
    "\n",
    "# Membagi dataset ke data latih dan data uji\n",
    "X_train, X_test, y_train, y_test = train_test_split(X, y, test_size=0.3, random_state=0)\n",
    "\n",
    "# Membuat model KNN\n",
    "knn = KNeighborsClassifier(n_neighbors=3)\n",
    "\n",
    "# Melatih model\n",
    "knn.fit(X_train, y_train)\n",
    "\n",
    "# Melakukan prediksi pada data uji\n",
    "y_pred = knn.predict(X_test)\n",
    "\n",
    "# Mengevaluasi model\n",
    "accuracy = accuracy_score(y_test, y_pred)\n",
    "conf_matrix = confusion_matrix(y_test, y_pred)\n",
    "class_report = classification_report(y_test, y_pred)\n",
    "\n",
    "# Menampilkan hasil evaluasi\n",
    "print(f\"Akurasi: {accuracy:.2f}\")\n",
    "print(\"Matriks Kebingungan:\")\n",
    "print(conf_matrix)\n",
    "print(\"Laporan Klasifikasi:\")\n",
    "print(class_report)"
   ]
  },
  {
   "cell_type": "code",
   "execution_count": 83,
   "id": "698310c9-b8ae-4194-877c-512e98f341aa",
   "metadata": {},
   "outputs": [
    {
     "name": "stdout",
     "output_type": "stream",
     "text": [
      "Accuracy on the test set: 0.656\n"
     ]
    }
   ],
   "source": [
    "y_pred = knn.predict(X_test)\n",
    "print(\"Accuracy on the test set:\", round(accuracy_score(y_test, y_pred), 3))"
   ]
  },
  {
   "cell_type": "code",
   "execution_count": 84,
   "id": "27c6e332-a990-4a47-9ddf-b5ee21556536",
   "metadata": {},
   "outputs": [
    {
     "name": "stdout",
     "output_type": "stream",
     "text": [
      "               precision    recall  f1-score   support\n",
      "\n",
      "   Depressed        0.74      0.83      0.78     90941\n",
      "not depressed       0.29      0.19      0.23     33190\n",
      "\n",
      "     accuracy                           0.66    124131\n",
      "    macro avg       0.51      0.51      0.50    124131\n",
      " weighted avg       0.62      0.66      0.63    124131\n",
      "\n"
     ]
    }
   ],
   "source": [
    "from sklearn.metrics import classification_report\n",
    "target_names = ['Depressed ', 'not depressed']\n",
    "print(classification_report(y_test, y_pred, target_names=target_names))"
   ]
  },
  {
   "cell_type": "code",
   "execution_count": 85,
   "id": "7fe61501-3f81-4fd0-ade1-9bf235d6de7a",
   "metadata": {},
   "outputs": [
    {
     "name": "stdout",
     "output_type": "stream",
     "text": [
      "Accuracy for n_neighbors=1: 0.615\n",
      "Accuracy for n_neighbors=2: 0.702\n",
      "Accuracy for n_neighbors=3: 0.656\n",
      "Accuracy for n_neighbors=4: 0.706\n",
      "Accuracy for n_neighbors=5: 0.678\n",
      "Accuracy for n_neighbors=6: 0.711\n",
      "Accuracy for n_neighbors=7: 0.693\n",
      "Accuracy for n_neighbors=8: 0.715\n",
      "Accuracy for n_neighbors=9: 0.704\n",
      "Accuracy for n_neighbors=10: 0.719\n",
      "Accuracy for n_neighbors=11: 0.71\n",
      "Accuracy for n_neighbors=12: 0.722\n",
      "Accuracy for n_neighbors=13: 0.716\n",
      "Accuracy for n_neighbors=14: 0.724\n"
     ]
    }
   ],
   "source": [
    "from sklearn.neighbors import KNeighborsClassifier\n",
    "from sklearn.metrics import accuracy_score\n",
    "\n",
    "# Membuat list kosong dalam variabel accuracy\n",
    "accuracy = []\n",
    "\n",
    "# Loop dengan rentang nilai i dari 1-14 (Exclude 15)\n",
    "for i in range(1, 15):\n",
    "    knn = KNeighborsClassifier(n_neighbors=i)\n",
    "    \n",
    "    # Menggunakan .values.ravel() untuk mengubah bentuk y_train\n",
    "    knn.fit(X_train, y_train.values.ravel())  # Perubahan di sini\n",
    "    \n",
    "    pred_i = knn.predict(X_test)\n",
    "    \n",
    "    # Menghitung akurasi untuk prediksi\n",
    "    accuracy_i = accuracy_score(y_test, pred_i)\n",
    "\n",
    "    # Menyimpan skor akurasi pada setiap iterasi ke dalam list \"accuracy\"\n",
    "    accuracy.append(accuracy_i)\n",
    "\n",
    "# Jika ingin mencetak akurasi untuk setiap n_neighbors\n",
    "for i, acc in enumerate(accuracy, start=1):\n",
    "    print(f\"Accuracy for n_neighbors={i}: {round(acc, 3)}\")\n"
   ]
  },
  {
   "cell_type": "code",
   "execution_count": 88,
   "id": "d01aeac7-d5b2-449d-821e-8d383259ba5b",
   "metadata": {},
   "outputs": [
    {
     "data": {
      "image/png": "[encoded data removed]",
      "text/plain": [
       "<Figure size 1500x600 with 1 Axes>"
      ]
     },
     "metadata": {},
     "output_type": "display_data"
    }
   ],
   "source": [
    "# Melihat akurasi dari setiap iterasi pada line chart\n",
    "plt.figure(figsize=(15,6))\n",
    "plt.plot(range(1,15, 1), accuracy, color='blue', linestyle='dashed', marker='o',\n",
    "         markerfacecolor='red', markersize=10)\n",
    "plt.title('Accuracy vs. K Value')\n",
    "plt.xlabel('K')\n",
    "plt.ylabel('Accuracy')\n",
    "plt.show()"
   ]
  },
  {
   "cell_type": "code",
   "execution_count": 89,
   "id": "21acfb78-4373-4768-a65c-6be3f9665c83",
   "metadata": {},
   "outputs": [
    {
     "name": "stdout",
     "output_type": "stream",
     "text": [
      "Predictions: [0 0 0 ... 0 0 0]\n"
     ]
    }
   ],
   "source": [
    "from sklearn.neighbors import KNeighborsClassifier\n",
    "\n",
    "# Dapat dilihat dari grafik di atas bahwa akurasi paling tinggi didapatkan dengan n = 14\n",
    "knn = KNeighborsClassifier(n_neighbors=14)\n",
    "\n",
    "# Menggunakan .values.ravel() untuk mengubah bentuk y_train\n",
    "knn.fit(X_train, y_train.values.ravel())  # Perubahan di sini\n",
    "\n",
    "# Melakukan prediksi\n",
    "y_pred = knn.predict(X_test)\n",
    "\n",
    "# Jika ingin mencetak hasil prediksi\n",
    "print(\"Predictions:\", y_pred)"
   ]
  },
  {
   "cell_type": "code",
   "execution_count": 90,
   "id": "e23b209f-cfc7-479f-9a70-21e9c0d62a36",
   "metadata": {},
   "outputs": [
    {
     "name": "stdout",
     "output_type": "stream",
     "text": [
      "Predictions: [0 0 0 ... 1 0 0]\n"
     ]
    }
   ],
   "source": [
    "from sklearn.preprocessing import StandardScaler\n",
    "\n",
    "scaler = StandardScaler()\n",
    "X_train_scaled = scaler.fit_transform(X_train)\n",
    "X_test_scaled = scaler.transform(X_test)\n",
    "\n",
    "knn = KNeighborsClassifier(n_neighbors=14)\n",
    "knn.fit(X_train_scaled, y_train.values.ravel())\n",
    "y_pred = knn.predict(X_test_scaled)\n",
    "\n",
    "print(\"Predictions:\", y_pred)"
   ]
  },
  {
   "cell_type": "code",
   "execution_count": 91,
   "id": "547e83f1-edfa-441d-81c6-d39459a521fc",
   "metadata": {},
   "outputs": [
    {
     "name": "stdout",
     "output_type": "stream",
     "text": [
      "[[86467  4474]\n",
      " [28859  4331]]\n",
      "              precision    recall  f1-score   support\n",
      "\n",
      "           0       0.75      0.95      0.84     90941\n",
      "           1       0.49      0.13      0.21     33190\n",
      "\n",
      "    accuracy                           0.73    124131\n",
      "   macro avg       0.62      0.54      0.52    124131\n",
      "weighted avg       0.68      0.73      0.67    124131\n",
      "\n"
     ]
    }
   ],
   "source": [
    "from sklearn.metrics import classification_report, confusion_matrix\n",
    "\n",
    "# Menghitung metrik\n",
    "print(confusion_matrix(y_test, y_pred))\n",
    "print(classification_report(y_test, y_pred))"
   ]
  },
  {
   "cell_type": "code",
   "execution_count": 97,
   "id": "90410562-f1b7-47fb-ae94-4559f565a7be",
   "metadata": {},
   "outputs": [
    {
     "name": "stdout",
     "output_type": "stream",
     "text": [
      "Accuracy on the test set: 60.78%\n"
     ]
    }
   ],
   "source": [
    "accuracy = accuracy_score(y_test, y_pred)\n",
    "print(f\"Accuracy on the test set: {round(accuracy * 100, 2)}%\")"
   ]
  },
  {
   "cell_type": "code",
   "execution_count": 67,
   "id": "bb5bfdc9-e3f6-4170-a087-d1ed3af5afb6",
   "metadata": {},
   "outputs": [
    {
     "name": "stdout",
     "output_type": "stream",
     "text": [
      "              precision    recall  f1-score   support\n",
      "\n",
      " Not Delayed       0.73      0.98      0.84     90941\n",
      "     Delayed       0.31      0.03      0.05     33190\n",
      "\n",
      "    accuracy                           0.72    124131\n",
      "   macro avg       0.52      0.50      0.44    124131\n",
      "weighted avg       0.62      0.72      0.63    124131\n",
      "\n"
     ]
    }
   ],
   "source": [
    "print(classification_report(y_test, y_pred, target_names=target_names))"
   ]
  },
  {
   "cell_type": "code",
   "execution_count": 94,
   "id": "0dffdf76-5641-4033-9aaf-187e1e4c1837",
   "metadata": {},
   "outputs": [
    {
     "name": "stdout",
     "output_type": "stream",
     "text": [
      "              precision    recall  f1-score   support\n",
      "\n",
      "           0       0.61      0.61      0.61     90766\n",
      "           1       0.61      0.61      0.61     90743\n",
      "\n",
      "    accuracy                           0.61    181509\n",
      "   macro avg       0.61      0.61      0.61    181509\n",
      "weighted avg       0.61      0.61      0.61    181509\n",
      "\n"
     ]
    }
   ],
   "source": [
    "from imblearn.over_sampling import SMOTE\n",
    "\n",
    "# Menerapkan SMOTE\n",
    "smote = SMOTE(random_state=42)\n",
    "X_resampled, y_resampled = smote.fit_resample(X, y)\n",
    "\n",
    "# Membagi dataset ke data latih dan data uji\n",
    "X_train, X_test, y_train, y_test = train_test_split(X_resampled, y_resampled, test_size=0.3, random_state=0)\n",
    "\n",
    "# Membuat model KNN\n",
    "knn = KNeighborsClassifier(n_neighbors=14)\n",
    "\n",
    "# Melatih model\n",
    "knn.fit(X_train, y_train)\n",
    "\n",
    "# Melakukan prediksi\n",
    "y_pred = knn.predict(X_test)\n",
    "\n",
    "# Evaluasi hasil\n",
    "from sklearn.metrics import classification_report\n",
    "print(classification_report(y_test, y_pred))"
   ]
  },
  {
   "cell_type": "code",
   "execution_count": 95,
   "id": "a79e518d-0e02-440b-bb88-b1911e3850b2",
   "metadata": {},
   "outputs": [
    {
     "data": {
      "image/png": "[encoded data removed]",
      "text/plain": [
       "<Figure size 640x480 with 2 Axes>"
      ]
     },
     "metadata": {},
     "output_type": "display_data"
    }
   ],
   "source": [
    "import seaborn as sns\n",
    "import matplotlib.pyplot as plt\n",
    "\n",
    "conf_matrix = confusion_matrix(y_test, y_pred)\n",
    "sns.heatmap(conf_matrix, annot=True, fmt='d', cmap='Blues')\n",
    "plt.xlabel('Prediksi')\n",
    "plt.ylabel('Aktual')\n",
    "plt.title('Confusion Matrix')\n",
    "plt.show()"
   ]
  },
  {
   "cell_type": "code",
   "execution_count": 96,
   "id": "5388abfd-70b0-4c97-b554-185728b571c3",
   "metadata": {},
   "outputs": [
    {
     "data": {
      "image/png": "[encoded data removed]",
      "text/plain": [
       "<Figure size 640x480 with 1 Axes>"
      ]
     },
     "metadata": {},
     "output_type": "display_data"
    }
   ],
   "source": [
    "# Memperoleh probabilitas prediksi kelas positif (y=1) dari model klasifikasi KNN untuk data uji (X_test)\n",
    "y_pred_proba = knn.predict_proba(X_test)[::,1]\n",
    "\n",
    "fpr, tpr, _ = metrics.roc_curve(y_test,  y_pred_proba)\n",
    "auc = metrics.roc_auc_score(y_test, y_pred_proba)\n",
    "plt.plot(fpr,tpr,label=\"Score AUC=\"+str(auc))\n",
    "plt.legend(loc=4)\n",
    "plt.show()"
   ]
  },
  {
   "cell_type": "code",
   "execution_count": 100,
   "id": "3fca766e-c4af-4ae0-9e0b-a6e4231ec62e",
   "metadata": {},
   "outputs": [
    {
     "name": "stdout",
     "output_type": "stream",
     "text": [
      "Class distribution in the training set:\n",
      "Family History of Depression\n",
      "1    211772\n",
      "0    211749\n",
      "Name: count, dtype: int64\n",
      "Class distribution in the test set:\n",
      "Family History of Depression\n",
      "0    90766\n",
      "1    90743\n",
      "Name: count, dtype: int64\n"
     ]
    }
   ],
   "source": [
    "print(\"Class distribution in the training set:\")\n",
    "print(y_train.value_counts())\n",
    "\n",
    "print(\"Class distribution in the test set:\")\n",
    "print(y_test.value_counts())"
   ]
  },
  {
   "cell_type": "code",
   "execution_count": null,
   "id": "d589923a-f74f-4f88-833f-25011b60a325",
   "metadata": {},
   "outputs": [],
   "source": []
  }
 ],
 "metadata": {
  "kernelspec": {
   "display_name": "Python 3 (ipykernel)",
   "language": "python",
   "name": "python3"
  },
  "language_info": {
   "codemirror_mode": {
    "name": "ipython",
    "version": 3
   },
   "file_extension": ".py",
   "mimetype": "text/x-python",
   "name": "python",
   "nbconvert_exporter": "python",
   "pygments_lexer": "ipython3",
   "version": "3.10.12"
  }
 },
 "nbformat": 4,
 "nbformat_minor": 5
}
